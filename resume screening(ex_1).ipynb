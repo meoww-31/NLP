{
 "cells": [
  {
   "cell_type": "code",
   "execution_count": 11,
   "id": "a6c63d85",
   "metadata": {},
   "outputs": [
    {
     "name": "stdout",
     "output_type": "stream",
     "text": [
      "resume1.txt passed the screening with a score of 3\n"
     ]
    }
   ],
   "source": [
    "import re\n",
    "import string\n",
    "\n",
    "def preprocess_text(text):\n",
    "    # Convert text to lowercase\n",
    "    text = text.lower()\n",
    "    # Remove punctuation\n",
    "    text = text.translate(str.maketrans('', '', string.punctuation))\n",
    "    # Tokenize the text\n",
    "    tokens = text.split()\n",
    "    # Remove common stopwords\n",
    "    stopwords = set(['a', 'an', 'the', 'in', 'on', 'and', 'is', 'are', 'was', 'were'])\n",
    "    tokens = [token for token in tokens if token not in stopwords]\n",
    "    # Return the preprocessed text as a string\n",
    "    return ' '.join(tokens)\n",
    "\n",
    "def screen_resume(resume, job_requirements):\n",
    "    # Preprocess the resume\n",
    "    preprocessed_resume = preprocess_text(resume)\n",
    "    # Count the number of keyword matches\n",
    "    keyword_matches = 0  # Initialize keyword_matches here\n",
    "    for keyword in job_requirements:\n",
    "        if re.search(r'\\b{}\\b'.format(keyword), preprocessed_resume, re.IGNORECASE):\n",
    "            keyword_matches += 1\n",
    "    return keyword_matches  # Move the return statement outside the loop\n",
    "\n",
    "def job():\n",
    "    job_requirements = ['python', 'machine learning', 'data analysis']\n",
    "    resumes = ['resume1.txt']\n",
    "    for resume in resumes:\n",
    "        with open(resume, 'r') as file:\n",
    "            resume_text = file.read()\n",
    "        score = screen_resume(resume_text, job_requirements)\n",
    "        if score >= 2:\n",
    "            print(f\"{resume} passed the screening with a score of {score}\")\n",
    "\n",
    "job()\n"
   ]
  },
  {
   "cell_type": "code",
   "execution_count": null,
   "id": "af7d07db",
   "metadata": {},
   "outputs": [],
   "source": []
  }
 ],
 "metadata": {
  "kernelspec": {
   "display_name": "Python 3 (ipykernel)",
   "language": "python",
   "name": "python3"
  },
  "language_info": {
   "codemirror_mode": {
    "name": "ipython",
    "version": 3
   },
   "file_extension": ".py",
   "mimetype": "text/x-python",
   "name": "python",
   "nbconvert_exporter": "python",
   "pygments_lexer": "ipython3",
   "version": "3.11.5"
  }
 },
 "nbformat": 4,
 "nbformat_minor": 5
}
