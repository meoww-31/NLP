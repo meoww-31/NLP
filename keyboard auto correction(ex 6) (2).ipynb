{
 "cells": [
  {
   "cell_type": "code",
   "execution_count": 6,
   "id": "5cb3e53e",
   "metadata": {},
   "outputs": [
    {
     "name": "stdout",
     "output_type": "stream",
     "text": [
      "I like to eat apple and banana\n"
     ]
    }
   ],
   "source": [
    "from difflib import get_close_matches\n",
    "\n",
    "def build_autocorrect_model(words):\n",
    "    return {word.lower(): word for word in words}\n",
    "\n",
    "def autocorrect_input(input_text, autocorrect_model):\n",
    "    words = input_text.split()\n",
    "    corrected_words = [\n",
    "        autocorrect_model.get(word.lower()) or \n",
    "        (get_close_matches(word.lower(), autocorrect_model.keys(), n=1, cutoff=0.8) or [word])[0]\n",
    "        for word in words\n",
    "    ]\n",
    "    return ' '.join(autocorrect_model.get(word.lower(), word) for word in corrected_words)\n",
    "\n",
    "def job():\n",
    "    word_list = ['apple', 'banana', 'cat', 'dog', 'elephant', 'fish'] \n",
    "    autocorrect_model = build_autocorrect_model(word_list)\n",
    "    input_text = \"I like to eat applle and bananana.\"\n",
    "    corrected_text = autocorrect_input(input_text, autocorrect_model) \n",
    "    print(corrected_text)\n",
    "\n",
    "job()"
   ]
  },
  {
   "cell_type": "code",
   "execution_count": null,
   "id": "2c49d0ad",
   "metadata": {},
   "outputs": [],
   "source": []
  }
 ],
 "metadata": {
  "kernelspec": {
   "display_name": "Python 3 (ipykernel)",
   "language": "python",
   "name": "python3"
  },
  "language_info": {
   "codemirror_mode": {
    "name": "ipython",
    "version": 3
   },
   "file_extension": ".py",
   "mimetype": "text/x-python",
   "name": "python",
   "nbconvert_exporter": "python",
   "pygments_lexer": "ipython3",
   "version": "3.11.5"
  }
 },
 "nbformat": 4,
 "nbformat_minor": 5
}
