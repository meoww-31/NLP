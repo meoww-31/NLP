{
  "nbformat": 4,
  "nbformat_minor": 0,
  "metadata": {
    "colab": {
      "provenance": []
    },
    "kernelspec": {
      "name": "python3",
      "display_name": "Python 3"
    },
    "language_info": {
      "name": "python"
    }
  },
  "cells": [
    {
      "cell_type": "code",
      "source": [
        "import re\n",
        "import string\n",
        "\n",
        "def preprocess_text(text):\n",
        "    # Convert text to lowercase\n",
        "    text = text.lower()\n",
        "    # Remove punctuation\n",
        "    text = text.translate(str.maketrans('', '', string.punctuation))\n",
        "    # Tokenize the text\n",
        "    tokens = text.split()\n",
        "    # Remove common stopwords\n",
        "    stopwords = set(['a', 'an', 'the', 'in', 'on', 'and', 'is', 'are', 'was', 'were'])\n",
        "    tokens = [token for token in tokens if token not in stopwords]\n",
        "    # Return the preprocessed text as a string\n",
        "    return ' '.join(tokens)\n",
        "\n",
        "def screen_resume(resume, job_requirements):\n",
        "    # Preprocess the resume\n",
        "    preprocessed_resume = preprocess_text(resume)\n",
        "    # Count the number of keyword matches\n",
        "    keyword_matches = 0\n",
        "    for keyword in job_requirements:\n",
        "        if re.search(r'\\b{}\\b'.format(keyword), preprocessed_resume, re.IGNORECASE):\n",
        "            keyword_matches += 1\n",
        "    return keyword_matches\n",
        "\n",
        "def main():\n",
        "    job_requirements = ['artificial intelligence', 'flutter', 'java', 'Figma']\n",
        "    resume_path = r\"/content/Nimoshini-_2_.txt\"\n",
        "    encodings_to_try = ['utf-8', 'latin-1', 'utf-16']\n",
        "\n",
        "    found_encoding = None\n",
        "    resume_text = None\n",
        "\n",
        "    for encoding in encodings_to_try:\n",
        "        try:\n",
        "            with open(resume_path, 'r', encoding=encoding) as file:\n",
        "                resume_text = file.read()\n",
        "                found_encoding = encoding\n",
        "                break\n",
        "        except UnicodeDecodeError:\n",
        "            continue\n",
        "\n",
        "    if found_encoding:\n",
        "        print(f\"Resume {resume_path} successfully read with encoding {found_encoding}.\")\n",
        "        score = screen_resume(resume_text, job_requirements)\n",
        "        print(f\"Score for {resume_path}: {score}\")\n",
        "        if score >= 2:\n",
        "            print(f\"{resume_path} passed the screening with a score of {score}\")\n",
        "    else:\n",
        "        print(f\"Failed to read {resume_path} with any encoding.\")\n",
        "\n",
        "if __name__ == \"__main__\":\n",
        "    main()"
      ],
      "metadata": {
        "colab": {
          "base_uri": "https://localhost:8080/"
        },
        "id": "47pGlU4ESMgD",
        "outputId": "654afa4c-34fb-4181-f73e-1affe252b577"
      },
      "execution_count": null,
      "outputs": [
        {
          "output_type": "stream",
          "name": "stdout",
          "text": [
            "Resume /content/Nimoshini-_2_.txt successfully read with encoding utf-8.\n",
            "Score for /content/Nimoshini-_2_.txt: 2\n",
            "/content/Nimoshini-_2_.txt passed the screening with a score of 2\n"
          ]
        }
      ]
    },
    {
      "cell_type": "code",
      "execution_count": null,
      "metadata": {
        "colab": {
          "base_uri": "https://localhost:8080/"
        },
        "id": "6MS1Rf1WRM-x",
        "outputId": "989b8eeb-5b12-49cb-911b-e8c4df0e12e4"
      },
      "outputs": [
        {
          "output_type": "stream",
          "name": "stdout",
          "text": [
            "Entity: Apple Inc., Label: ORG\n",
            "Entity: Steve Jobs, Label: PERSON\n",
            "Entity: Steve Wozniak, Label: PERSON\n",
            "Entity: Ronald Wayne, Label: PERSON\n",
            "Entity: Cupertino, Label: GPE\n",
            "Entity: California, Label: GPE\n"
          ]
        }
      ],
      "source": [
        "import spacy\n",
        "\n",
        "def perform_ner(text):\n",
        "    # Load the pre-trained English language model\n",
        "    nlp = spacy.load(\"en_core_web_sm\")\n",
        "    # Process the text\n",
        "    doc = nlp(text)\n",
        "    # Extract entities and their labels\n",
        "    entities = [(entity.text, entity.label_) for entity in doc.ents]\n",
        "    return entities\n",
        "\n",
        "def main():\n",
        "    text = \"Apple Inc. was founded by Steve Jobs, Steve Wozniak, and Ronald Wayne. It is headquartered in Cupertino, California.\"\n",
        "    entities = perform_ner(text)\n",
        "    for entity, label in entities:\n",
        "        print(f\"Entity: {entity}, Label: {label}\")\n",
        "\n",
        "if __name__ == '__main__':\n",
        "    main()\n"
      ]
    },
    {
      "cell_type": "code",
      "source": [
        "from textblob import TextBlob\n",
        "\n",
        "def perform_sentiment_analysis(text):\n",
        "    # Create a TextBlob object\n",
        "    blob = TextBlob(text)\n",
        "    # Perform sentiment analysis\n",
        "    sentiment = blob.sentiment.polarity\n",
        "    return sentiment\n",
        "\n",
        "def main():\n",
        "    text = \"I did not love this movie.\"\n",
        "\n",
        "    sentiment = perform_sentiment_analysis(text)\n",
        "    if sentiment > 0:\n",
        "        print(\"Positive sentiment\")\n",
        "    elif sentiment < 0:\n",
        "        print(\"Negative sentiment\")\n",
        "    else:\n",
        "        print(\"Neutral sentiment\")\n",
        "\n",
        "if __name__ == \"__main__\":\n",
        "    main()"
      ],
      "metadata": {
        "colab": {
          "base_uri": "https://localhost:8080/"
        },
        "id": "JN-I5zdnSJfl",
        "outputId": "5d83e7dd-c85f-4bc6-f18b-d0f50b905d69"
      },
      "execution_count": null,
      "outputs": [
        {
          "output_type": "stream",
          "name": "stdout",
          "text": [
            "Negative sentiment\n"
          ]
        }
      ]
    },
    {
      "cell_type": "code",
      "source": [
        "!pip install rake_nltk\n",
        "from rake_nltk import Rake\n",
        "import nltk\n",
        "nltk.download('stopwords')\n",
        "nltk.download('punkt')\n",
        "\n",
        "\n",
        "\n",
        "def perform_keyword_extraction(text):\n",
        "# Create a Rake object\n",
        "    rake = Rake()\n",
        "\n",
        "\n",
        "    # Extract keywords\n",
        "    rake.extract_keywords_from_text(text)\n",
        "\n",
        "\n",
        "    # Get ranked keywords\n",
        "    ranked_keywords = rake.get_ranked_phrases()\n",
        "\n",
        "\n",
        "    return ranked_keywords\n",
        "\n",
        "def main():\n",
        "    text = \"Python is a versatile programming language known for its simplicity and readability.It is widely used in web development, data analysis, and artificial intelligence.\"\n",
        "    keywords = perform_keyword_extraction(text)\n",
        "    for keyword in keywords:\n",
        "        print(keyword)\n",
        "if __name__==\"__main__\":\n",
        "    main()"
      ],
      "metadata": {
        "colab": {
          "base_uri": "https://localhost:8080/"
        },
        "id": "xKyI9ZhoUX-u",
        "outputId": "d70b1de2-1445-4973-a395-883bf4cafe71"
      },
      "execution_count": null,
      "outputs": [
        {
          "output_type": "stream",
          "name": "stdout",
          "text": [
            "Collecting rake_nltk\n",
            "  Downloading rake_nltk-1.0.6-py3-none-any.whl (9.1 kB)\n",
            "Requirement already satisfied: nltk<4.0.0,>=3.6.2 in /usr/local/lib/python3.10/dist-packages (from rake_nltk) (3.8.1)\n",
            "Requirement already satisfied: click in /usr/local/lib/python3.10/dist-packages (from nltk<4.0.0,>=3.6.2->rake_nltk) (8.1.7)\n",
            "Requirement already satisfied: joblib in /usr/local/lib/python3.10/dist-packages (from nltk<4.0.0,>=3.6.2->rake_nltk) (1.4.2)\n",
            "Requirement already satisfied: regex>=2021.8.3 in /usr/local/lib/python3.10/dist-packages (from nltk<4.0.0,>=3.6.2->rake_nltk) (2023.12.25)\n",
            "Requirement already satisfied: tqdm in /usr/local/lib/python3.10/dist-packages (from nltk<4.0.0,>=3.6.2->rake_nltk) (4.66.4)\n",
            "Installing collected packages: rake_nltk\n",
            "Successfully installed rake_nltk-1.0.6\n"
          ]
        },
        {
          "output_type": "stream",
          "name": "stderr",
          "text": [
            "[nltk_data] Downloading package stopwords to /root/nltk_data...\n",
            "[nltk_data]   Unzipping corpora/stopwords.zip.\n",
            "[nltk_data] Downloading package punkt to /root/nltk_data...\n",
            "[nltk_data]   Unzipping tokenizers/punkt.zip.\n"
          ]
        },
        {
          "output_type": "stream",
          "name": "stdout",
          "text": [
            "versatile programming language known\n",
            "widely used\n",
            "web development\n",
            "data analysis\n",
            "artificial intelligence\n",
            "simplicity\n",
            "readability\n",
            "python\n"
          ]
        }
      ]
    },
    {
      "cell_type": "code",
      "source": [
        "from textblob import TextBlob\n",
        "\n",
        "\n",
        "def perform_spelling_correction(text):\n",
        "\n",
        "    # Create a TextBlob object\n",
        "\n",
        "    blob = TextBlob(text)\n",
        "\n",
        "\n",
        "    # Perform spelling correction\n",
        "    corrected_text = blob.correct()\n",
        "\n",
        "    return corrected_text\n",
        "\n",
        "def main():\n",
        "\n",
        "    text = \"thiss is a sentensee with misspelled wrds.\"\n",
        "\n",
        "\n",
        "    corrected_text = perform_spelling_correction(text)\n",
        "    print(corrected_text)\n",
        "\n",
        "\n",
        "if __name__ == \"__main__\":\n",
        "    main()\n"
      ],
      "metadata": {
        "colab": {
          "base_uri": "https://localhost:8080/"
        },
        "id": "PxINm-l7Uo4u",
        "outputId": "7b16f5ec-383a-420d-850a-0aa26a7dfd85"
      },
      "execution_count": null,
      "outputs": [
        {
          "output_type": "stream",
          "name": "stdout",
          "text": [
            "this is a sentence with misspelled words.\n"
          ]
        }
      ]
    },
    {
      "cell_type": "code",
      "source": [
        "from difflib import get_close_matches\n",
        "\n",
        "def build_autocorrect_model(words):\n",
        "    autocorrect_model = {}\n",
        "    for word in words:\n",
        "        autocorrect_model[word.lower()] = word\n",
        "\n",
        "    return autocorrect_model\n",
        "\n",
        "\n",
        "def autocorrect_input(input_text, autocorrect_model):\n",
        "    corrected_text = \"\"\n",
        "    words = input_text.split()\n",
        "\n",
        "    for word in words:\n",
        "        corrected_word = autocorrect_model.get(word.lower(), None)\n",
        "        if corrected_word:\n",
        "            corrected_text += corrected_word + \" \"\n",
        "        else:\n",
        "            closest_match = get_close_matches(word, autocorrect_model.keys(), n=1, cutoff=0.8)\n",
        "\n",
        "        if closest_match:\n",
        "                corrected_text += autocorrect_model[closest_match[0]] + \" \"\n",
        "        else:\n",
        "                corrected_text += word + \" \"\n",
        "\n",
        "    return corrected_text.strip()\n",
        "\n",
        "def main():\n",
        "    word_list = ['apple', 'banana', 'cat', 'dog', 'elephant', 'fish']\n",
        "    autocorrect_model = build_autocorrect_model(word_list)\n",
        "\n",
        "    input_text = \"I like to eat applle and bananana.\"\n",
        "    corrected_text = autocorrect_input(input_text, autocorrect_model)\n",
        "    print(corrected_text)\n",
        "\n",
        "if __name__ == '__main__':\n",
        "    main()\n"
      ],
      "metadata": {
        "colab": {
          "base_uri": "https://localhost:8080/"
        },
        "id": "kUm98UUuU46P",
        "outputId": "cb6f0e58-b26d-45a1-9636-65b73d6511e8"
      },
      "execution_count": null,
      "outputs": [
        {
          "output_type": "stream",
          "name": "stdout",
          "text": [
            "I like to eat apple and banana\n"
          ]
        }
      ]
    },
    {
      "cell_type": "code",
      "source": [
        "from textblob import TextBlob\n",
        "\n",
        "# Example tweets\n",
        "tweets = [\n",
        "    \"I owe party A big time #partyA\",\n",
        "    \"I support party B #gopartyB\",\n",
        "    \"Big love for party B\",\n",
        "    \"Worst party with fake promise partyA\",\n",
        "    \"Gonna lose partyB\",\n",
        "    \"Whom ever wins, I don't care\"\n",
        "]\n",
        "\n",
        "# Initialize counters for each party\n",
        "support_A = 0\n",
        "support_B = 0\n",
        "\n",
        "# Function to analyze sentiment\n",
        "def analyze_sentiment(tweet):\n",
        "    analysis = TextBlob(tweet)\n",
        "    return analysis.sentiment.polarity\n",
        "\n",
        "# Iterate through the tweets and categorize based on sentiment\n",
        "for tweet in tweets:\n",
        "    sentiment = analyze_sentiment(tweet)\n",
        "\n",
        "    # Simplistic check to categorize tweet to a party\n",
        "    if \"A\" in tweet :\n",
        "        if sentiment > 0:\n",
        "            support_A += 1\n",
        "        elif sentiment < 0:\n",
        "            support_B += 1\n",
        "    elif \"B\" in tweet:\n",
        "        if sentiment > 0:\n",
        "            support_B += 1\n",
        "        elif sentiment < 0:\n",
        "            support_A += 1\n",
        "    else:\n",
        "        continue\n",
        "\n",
        "# Print the results\n",
        "print(f\"Support for Party A: {support_A}\")\n",
        "print(f\"Support for Party B: {support_B}\")\n",
        "\n",
        "# Determine the predicted winner\n",
        "if support_A > support_B:\n",
        "    print(\"Party A has higher possibility to win.\")\n",
        "elif support_B > support_A:\n",
        "    print(\"Party B has higher possibility to win.\")\n",
        "else:\n",
        "    print(\"It's a tie in support.\")"
      ],
      "metadata": {
        "colab": {
          "base_uri": "https://localhost:8080/"
        },
        "id": "JQY42FWUVPV3",
        "outputId": "fe8ecab8-ab8b-4c7d-d2c2-13cc504499bc"
      },
      "execution_count": null,
      "outputs": [
        {
          "output_type": "stream",
          "name": "stdout",
          "text": [
            "Support for Party A: 0\n",
            "Support for Party B: 2\n",
            "Party B has higher possibility to win.\n"
          ]
        }
      ]
    },
    {
      "cell_type": "code",
      "source": [
        "!pip install spacy"
      ],
      "metadata": {
        "colab": {
          "base_uri": "https://localhost:8080/"
        },
        "id": "15Ebng1UWOPf",
        "outputId": "b72f0c4d-5e66-42fc-c132-b0984e65718c"
      },
      "execution_count": null,
      "outputs": [
        {
          "output_type": "stream",
          "name": "stdout",
          "text": [
            "Requirement already satisfied: spacy in /usr/local/lib/python3.10/dist-packages (3.7.4)\n",
            "Requirement already satisfied: spacy-legacy<3.1.0,>=3.0.11 in /usr/local/lib/python3.10/dist-packages (from spacy) (3.0.12)\n",
            "Requirement already satisfied: spacy-loggers<2.0.0,>=1.0.0 in /usr/local/lib/python3.10/dist-packages (from spacy) (1.0.5)\n",
            "Requirement already satisfied: murmurhash<1.1.0,>=0.28.0 in /usr/local/lib/python3.10/dist-packages (from spacy) (1.0.10)\n",
            "Requirement already satisfied: cymem<2.1.0,>=2.0.2 in /usr/local/lib/python3.10/dist-packages (from spacy) (2.0.8)\n",
            "Requirement already satisfied: preshed<3.1.0,>=3.0.2 in /usr/local/lib/python3.10/dist-packages (from spacy) (3.0.9)\n",
            "Requirement already satisfied: thinc<8.3.0,>=8.2.2 in /usr/local/lib/python3.10/dist-packages (from spacy) (8.2.3)\n",
            "Requirement already satisfied: wasabi<1.2.0,>=0.9.1 in /usr/local/lib/python3.10/dist-packages (from spacy) (1.1.2)\n",
            "Requirement already satisfied: srsly<3.0.0,>=2.4.3 in /usr/local/lib/python3.10/dist-packages (from spacy) (2.4.8)\n",
            "Requirement already satisfied: catalogue<2.1.0,>=2.0.6 in /usr/local/lib/python3.10/dist-packages (from spacy) (2.0.10)\n",
            "Requirement already satisfied: weasel<0.4.0,>=0.1.0 in /usr/local/lib/python3.10/dist-packages (from spacy) (0.3.4)\n",
            "Requirement already satisfied: typer<0.10.0,>=0.3.0 in /usr/local/lib/python3.10/dist-packages (from spacy) (0.9.4)\n",
            "Requirement already satisfied: smart-open<7.0.0,>=5.2.1 in /usr/local/lib/python3.10/dist-packages (from spacy) (6.4.0)\n",
            "Requirement already satisfied: tqdm<5.0.0,>=4.38.0 in /usr/local/lib/python3.10/dist-packages (from spacy) (4.66.4)\n",
            "Requirement already satisfied: requests<3.0.0,>=2.13.0 in /usr/local/lib/python3.10/dist-packages (from spacy) (2.31.0)\n",
            "Requirement already satisfied: pydantic!=1.8,!=1.8.1,<3.0.0,>=1.7.4 in /usr/local/lib/python3.10/dist-packages (from spacy) (2.7.1)\n",
            "Requirement already satisfied: jinja2 in /usr/local/lib/python3.10/dist-packages (from spacy) (3.1.4)\n",
            "Requirement already satisfied: setuptools in /usr/local/lib/python3.10/dist-packages (from spacy) (67.7.2)\n",
            "Requirement already satisfied: packaging>=20.0 in /usr/local/lib/python3.10/dist-packages (from spacy) (24.0)\n",
            "Requirement already satisfied: langcodes<4.0.0,>=3.2.0 in /usr/local/lib/python3.10/dist-packages (from spacy) (3.4.0)\n",
            "Requirement already satisfied: numpy>=1.19.0 in /usr/local/lib/python3.10/dist-packages (from spacy) (1.25.2)\n",
            "Requirement already satisfied: language-data>=1.2 in /usr/local/lib/python3.10/dist-packages (from langcodes<4.0.0,>=3.2.0->spacy) (1.2.0)\n",
            "Requirement already satisfied: annotated-types>=0.4.0 in /usr/local/lib/python3.10/dist-packages (from pydantic!=1.8,!=1.8.1,<3.0.0,>=1.7.4->spacy) (0.7.0)\n",
            "Requirement already satisfied: pydantic-core==2.18.2 in /usr/local/lib/python3.10/dist-packages (from pydantic!=1.8,!=1.8.1,<3.0.0,>=1.7.4->spacy) (2.18.2)\n",
            "Requirement already satisfied: typing-extensions>=4.6.1 in /usr/local/lib/python3.10/dist-packages (from pydantic!=1.8,!=1.8.1,<3.0.0,>=1.7.4->spacy) (4.11.0)\n",
            "Requirement already satisfied: charset-normalizer<4,>=2 in /usr/local/lib/python3.10/dist-packages (from requests<3.0.0,>=2.13.0->spacy) (3.3.2)\n",
            "Requirement already satisfied: idna<4,>=2.5 in /usr/local/lib/python3.10/dist-packages (from requests<3.0.0,>=2.13.0->spacy) (3.7)\n",
            "Requirement already satisfied: urllib3<3,>=1.21.1 in /usr/local/lib/python3.10/dist-packages (from requests<3.0.0,>=2.13.0->spacy) (2.0.7)\n",
            "Requirement already satisfied: certifi>=2017.4.17 in /usr/local/lib/python3.10/dist-packages (from requests<3.0.0,>=2.13.0->spacy) (2024.2.2)\n",
            "Requirement already satisfied: blis<0.8.0,>=0.7.8 in /usr/local/lib/python3.10/dist-packages (from thinc<8.3.0,>=8.2.2->spacy) (0.7.11)\n",
            "Requirement already satisfied: confection<1.0.0,>=0.0.1 in /usr/local/lib/python3.10/dist-packages (from thinc<8.3.0,>=8.2.2->spacy) (0.1.4)\n",
            "Requirement already satisfied: click<9.0.0,>=7.1.1 in /usr/local/lib/python3.10/dist-packages (from typer<0.10.0,>=0.3.0->spacy) (8.1.7)\n",
            "Requirement already satisfied: cloudpathlib<0.17.0,>=0.7.0 in /usr/local/lib/python3.10/dist-packages (from weasel<0.4.0,>=0.1.0->spacy) (0.16.0)\n",
            "Requirement already satisfied: MarkupSafe>=2.0 in /usr/local/lib/python3.10/dist-packages (from jinja2->spacy) (2.1.5)\n",
            "Requirement already satisfied: marisa-trie>=0.7.7 in /usr/local/lib/python3.10/dist-packages (from language-data>=1.2->langcodes<4.0.0,>=3.2.0->spacy) (1.1.1)\n"
          ]
        }
      ]
    },
    {
      "cell_type": "code",
      "source": [
        "import spacy\n",
        "from textblob import TextBlob"
      ],
      "metadata": {
        "id": "QEXBmbfMWR-n"
      },
      "execution_count": null,
      "outputs": []
    },
    {
      "cell_type": "code",
      "source": [
        "nlp = spacy.load(\"es_core_news_sm\")\n",
        "# Define text to analyze\n",
        "text = \"Me encanta la comida mexicana y el tequila. la comida mexicana Me encanta\"\n",
        "# Tokenize text\n",
        "doc = nlp(text)"
      ],
      "metadata": {
        "colab": {
          "base_uri": "https://localhost:8080/",
          "height": 356
        },
        "id": "L6PhfrzAWWpX",
        "outputId": "ea55b51d-5730-475f-b797-01d39971cfdd"
      },
      "execution_count": null,
      "outputs": [
        {
          "output_type": "error",
          "ename": "OSError",
          "evalue": "[E050] Can't find model 'es_core_news_sm'. It doesn't seem to be a Python package or a valid path to a data directory.",
          "traceback": [
            "\u001b[0;31m---------------------------------------------------------------------------\u001b[0m",
            "\u001b[0;31mOSError\u001b[0m                                   Traceback (most recent call last)",
            "\u001b[0;32m<ipython-input-32-9cdf5d4f1201>\u001b[0m in \u001b[0;36m<cell line: 1>\u001b[0;34m()\u001b[0m\n\u001b[0;32m----> 1\u001b[0;31m \u001b[0mnlp\u001b[0m \u001b[0;34m=\u001b[0m \u001b[0mspacy\u001b[0m\u001b[0;34m.\u001b[0m\u001b[0mload\u001b[0m\u001b[0;34m(\u001b[0m\u001b[0;34m\"es_core_news_sm\"\u001b[0m\u001b[0;34m)\u001b[0m\u001b[0;34m\u001b[0m\u001b[0;34m\u001b[0m\u001b[0m\n\u001b[0m\u001b[1;32m      2\u001b[0m \u001b[0;31m# Define text to analyze\u001b[0m\u001b[0;34m\u001b[0m\u001b[0;34m\u001b[0m\u001b[0m\n\u001b[1;32m      3\u001b[0m \u001b[0mtext\u001b[0m \u001b[0;34m=\u001b[0m \u001b[0;34m\"Me encanta la comida mexicana y el tequila. la comida mexicana Me encanta\"\u001b[0m\u001b[0;34m\u001b[0m\u001b[0;34m\u001b[0m\u001b[0m\n\u001b[1;32m      4\u001b[0m \u001b[0;31m# Tokenize text\u001b[0m\u001b[0;34m\u001b[0m\u001b[0;34m\u001b[0m\u001b[0m\n\u001b[1;32m      5\u001b[0m \u001b[0mdoc\u001b[0m \u001b[0;34m=\u001b[0m \u001b[0mnlp\u001b[0m\u001b[0;34m(\u001b[0m\u001b[0mtext\u001b[0m\u001b[0;34m)\u001b[0m\u001b[0;34m\u001b[0m\u001b[0;34m\u001b[0m\u001b[0m\n",
            "\u001b[0;32m/usr/local/lib/python3.10/dist-packages/spacy/__init__.py\u001b[0m in \u001b[0;36mload\u001b[0;34m(name, vocab, disable, enable, exclude, config)\u001b[0m\n\u001b[1;32m     49\u001b[0m     \u001b[0mRETURNS\u001b[0m \u001b[0;34m(\u001b[0m\u001b[0mLanguage\u001b[0m\u001b[0;34m)\u001b[0m\u001b[0;34m:\u001b[0m \u001b[0mThe\u001b[0m \u001b[0mloaded\u001b[0m \u001b[0mnlp\u001b[0m \u001b[0mobject\u001b[0m\u001b[0;34m.\u001b[0m\u001b[0;34m\u001b[0m\u001b[0;34m\u001b[0m\u001b[0m\n\u001b[1;32m     50\u001b[0m     \"\"\"\n\u001b[0;32m---> 51\u001b[0;31m     return util.load_model(\n\u001b[0m\u001b[1;32m     52\u001b[0m         \u001b[0mname\u001b[0m\u001b[0;34m,\u001b[0m\u001b[0;34m\u001b[0m\u001b[0;34m\u001b[0m\u001b[0m\n\u001b[1;32m     53\u001b[0m         \u001b[0mvocab\u001b[0m\u001b[0;34m=\u001b[0m\u001b[0mvocab\u001b[0m\u001b[0;34m,\u001b[0m\u001b[0;34m\u001b[0m\u001b[0;34m\u001b[0m\u001b[0m\n",
            "\u001b[0;32m/usr/local/lib/python3.10/dist-packages/spacy/util.py\u001b[0m in \u001b[0;36mload_model\u001b[0;34m(name, vocab, disable, enable, exclude, config)\u001b[0m\n\u001b[1;32m    470\u001b[0m     \u001b[0;32mif\u001b[0m \u001b[0mname\u001b[0m \u001b[0;32min\u001b[0m \u001b[0mOLD_MODEL_SHORTCUTS\u001b[0m\u001b[0;34m:\u001b[0m\u001b[0;34m\u001b[0m\u001b[0;34m\u001b[0m\u001b[0m\n\u001b[1;32m    471\u001b[0m         \u001b[0;32mraise\u001b[0m \u001b[0mIOError\u001b[0m\u001b[0;34m(\u001b[0m\u001b[0mErrors\u001b[0m\u001b[0;34m.\u001b[0m\u001b[0mE941\u001b[0m\u001b[0;34m.\u001b[0m\u001b[0mformat\u001b[0m\u001b[0;34m(\u001b[0m\u001b[0mname\u001b[0m\u001b[0;34m=\u001b[0m\u001b[0mname\u001b[0m\u001b[0;34m,\u001b[0m \u001b[0mfull\u001b[0m\u001b[0;34m=\u001b[0m\u001b[0mOLD_MODEL_SHORTCUTS\u001b[0m\u001b[0;34m[\u001b[0m\u001b[0mname\u001b[0m\u001b[0;34m]\u001b[0m\u001b[0;34m)\u001b[0m\u001b[0;34m)\u001b[0m  \u001b[0;31m# type: ignore[index]\u001b[0m\u001b[0;34m\u001b[0m\u001b[0;34m\u001b[0m\u001b[0m\n\u001b[0;32m--> 472\u001b[0;31m     \u001b[0;32mraise\u001b[0m \u001b[0mIOError\u001b[0m\u001b[0;34m(\u001b[0m\u001b[0mErrors\u001b[0m\u001b[0;34m.\u001b[0m\u001b[0mE050\u001b[0m\u001b[0;34m.\u001b[0m\u001b[0mformat\u001b[0m\u001b[0;34m(\u001b[0m\u001b[0mname\u001b[0m\u001b[0;34m=\u001b[0m\u001b[0mname\u001b[0m\u001b[0;34m)\u001b[0m\u001b[0;34m)\u001b[0m\u001b[0;34m\u001b[0m\u001b[0;34m\u001b[0m\u001b[0m\n\u001b[0m\u001b[1;32m    473\u001b[0m \u001b[0;34m\u001b[0m\u001b[0m\n\u001b[1;32m    474\u001b[0m \u001b[0;34m\u001b[0m\u001b[0m\n",
            "\u001b[0;31mOSError\u001b[0m: [E050] Can't find model 'es_core_news_sm'. It doesn't seem to be a Python package or a valid path to a data directory."
          ]
        }
      ]
    },
    {
      "cell_type": "code",
      "source": [
        "\n",
        "for token in doc:\n",
        " print(token.text, token.pos_)\n",
        "\n",
        "# Extract named entities\n",
        "for ent in doc.ents:\n",
        "   print(ent.text, ent.label_)\n",
        "\n",
        "sentiment_score = 0\n",
        "for sentence in doc.sents:\n",
        "    analysis = TextBlob(sentence.text)\n",
        "    sentiment_score += analysis.sentiment.polarity\n",
        "\n",
        "    # Print sentiment score\n",
        "    print(\"Sentiment score:\", sentiment_score)"
      ],
      "metadata": {
        "colab": {
          "base_uri": "https://localhost:8080/",
          "height": 356
        },
        "id": "PZOFlwfyVSnr",
        "outputId": "d3dc4e52-74b7-4e53-945e-0683e7ac2624"
      },
      "execution_count": null,
      "outputs": [
        {
          "output_type": "error",
          "ename": "OSError",
          "evalue": "[E050] Can't find model 'es_core_news_sm'. It doesn't seem to be a Python package or a valid path to a data directory.",
          "traceback": [
            "\u001b[0;31m---------------------------------------------------------------------------\u001b[0m",
            "\u001b[0;31mOSError\u001b[0m                                   Traceback (most recent call last)",
            "\u001b[0;32m<ipython-input-26-273c85f051bd>\u001b[0m in \u001b[0;36m<cell line: 4>\u001b[0;34m()\u001b[0m\n\u001b[1;32m      2\u001b[0m \u001b[0;32mfrom\u001b[0m \u001b[0mtextblob\u001b[0m \u001b[0;32mimport\u001b[0m \u001b[0mTextBlob\u001b[0m\u001b[0;34m\u001b[0m\u001b[0;34m\u001b[0m\u001b[0m\n\u001b[1;32m      3\u001b[0m \u001b[0;34m\u001b[0m\u001b[0m\n\u001b[0;32m----> 4\u001b[0;31m \u001b[0mnlp\u001b[0m \u001b[0;34m=\u001b[0m \u001b[0mspacy\u001b[0m\u001b[0;34m.\u001b[0m\u001b[0mload\u001b[0m\u001b[0;34m(\u001b[0m\u001b[0;34m\"es_core_news_sm\"\u001b[0m\u001b[0;34m)\u001b[0m\u001b[0;34m\u001b[0m\u001b[0;34m\u001b[0m\u001b[0m\n\u001b[0m\u001b[1;32m      5\u001b[0m \u001b[0;34m\u001b[0m\u001b[0m\n\u001b[1;32m      6\u001b[0m \u001b[0mtext\u001b[0m \u001b[0;34m=\u001b[0m \u001b[0;34m\"Me encanta la comida mexicana y el tequila. la comida mexicana Me encanta\"\u001b[0m\u001b[0;34m\u001b[0m\u001b[0;34m\u001b[0m\u001b[0m\n",
            "\u001b[0;32m/usr/local/lib/python3.10/dist-packages/spacy/__init__.py\u001b[0m in \u001b[0;36mload\u001b[0;34m(name, vocab, disable, enable, exclude, config)\u001b[0m\n\u001b[1;32m     49\u001b[0m     \u001b[0mRETURNS\u001b[0m \u001b[0;34m(\u001b[0m\u001b[0mLanguage\u001b[0m\u001b[0;34m)\u001b[0m\u001b[0;34m:\u001b[0m \u001b[0mThe\u001b[0m \u001b[0mloaded\u001b[0m \u001b[0mnlp\u001b[0m \u001b[0mobject\u001b[0m\u001b[0;34m.\u001b[0m\u001b[0;34m\u001b[0m\u001b[0;34m\u001b[0m\u001b[0m\n\u001b[1;32m     50\u001b[0m     \"\"\"\n\u001b[0;32m---> 51\u001b[0;31m     return util.load_model(\n\u001b[0m\u001b[1;32m     52\u001b[0m         \u001b[0mname\u001b[0m\u001b[0;34m,\u001b[0m\u001b[0;34m\u001b[0m\u001b[0;34m\u001b[0m\u001b[0m\n\u001b[1;32m     53\u001b[0m         \u001b[0mvocab\u001b[0m\u001b[0;34m=\u001b[0m\u001b[0mvocab\u001b[0m\u001b[0;34m,\u001b[0m\u001b[0;34m\u001b[0m\u001b[0;34m\u001b[0m\u001b[0m\n",
            "\u001b[0;32m/usr/local/lib/python3.10/dist-packages/spacy/util.py\u001b[0m in \u001b[0;36mload_model\u001b[0;34m(name, vocab, disable, enable, exclude, config)\u001b[0m\n\u001b[1;32m    470\u001b[0m     \u001b[0;32mif\u001b[0m \u001b[0mname\u001b[0m \u001b[0;32min\u001b[0m \u001b[0mOLD_MODEL_SHORTCUTS\u001b[0m\u001b[0;34m:\u001b[0m\u001b[0;34m\u001b[0m\u001b[0;34m\u001b[0m\u001b[0m\n\u001b[1;32m    471\u001b[0m         \u001b[0;32mraise\u001b[0m \u001b[0mIOError\u001b[0m\u001b[0;34m(\u001b[0m\u001b[0mErrors\u001b[0m\u001b[0;34m.\u001b[0m\u001b[0mE941\u001b[0m\u001b[0;34m.\u001b[0m\u001b[0mformat\u001b[0m\u001b[0;34m(\u001b[0m\u001b[0mname\u001b[0m\u001b[0;34m=\u001b[0m\u001b[0mname\u001b[0m\u001b[0;34m,\u001b[0m \u001b[0mfull\u001b[0m\u001b[0;34m=\u001b[0m\u001b[0mOLD_MODEL_SHORTCUTS\u001b[0m\u001b[0;34m[\u001b[0m\u001b[0mname\u001b[0m\u001b[0;34m]\u001b[0m\u001b[0;34m)\u001b[0m\u001b[0;34m)\u001b[0m  \u001b[0;31m# type: ignore[index]\u001b[0m\u001b[0;34m\u001b[0m\u001b[0;34m\u001b[0m\u001b[0m\n\u001b[0;32m--> 472\u001b[0;31m     \u001b[0;32mraise\u001b[0m \u001b[0mIOError\u001b[0m\u001b[0;34m(\u001b[0m\u001b[0mErrors\u001b[0m\u001b[0;34m.\u001b[0m\u001b[0mE050\u001b[0m\u001b[0;34m.\u001b[0m\u001b[0mformat\u001b[0m\u001b[0;34m(\u001b[0m\u001b[0mname\u001b[0m\u001b[0;34m=\u001b[0m\u001b[0mname\u001b[0m\u001b[0;34m)\u001b[0m\u001b[0;34m)\u001b[0m\u001b[0;34m\u001b[0m\u001b[0;34m\u001b[0m\u001b[0m\n\u001b[0m\u001b[1;32m    473\u001b[0m \u001b[0;34m\u001b[0m\u001b[0m\n\u001b[1;32m    474\u001b[0m \u001b[0;34m\u001b[0m\u001b[0m\n",
            "\u001b[0;31mOSError\u001b[0m: [E050] Can't find model 'es_core_news_sm'. It doesn't seem to be a Python package or a valid path to a data directory."
          ]
        }
      ]
    },
    {
      "cell_type": "code",
      "source": [
        "import numpy as np\n",
        "import pandas as pd\n",
        "from sklearn.model_selection import train_test_split\n",
        "from tensorflow.keras.utils import to_categorical\n",
        "from tensorflow.keras.preprocessing.text import Tokenizer\n",
        "from tensorflow.keras.preprocessing.sequence import pad_sequences\n",
        "from tensorflow.keras.models import Sequential\n",
        "from tensorflow.keras.layers import Embedding, Conv1D, GlobalMaxPooling1D, Dense\n",
        "\n",
        "\n",
        "\n",
        "texts = [\n",
        " \"I love this movie!\",\n",
        "  \"This restaurant has great food.\",\n",
        "   \"The customer service was terrible.\",\n",
        "   \"I had a bad experience at this hotel.\"\n",
        "]\n",
        "labels = [1, 1, 0, 0]\n",
        "\n",
        "\n",
        "tokenizer = Tokenizer(num_words=1000)\n",
        "tokenizer.fit_on_texts(texts)\n",
        "sequences = tokenizer.texts_to_sequences(texts)\n",
        "\n",
        "\n",
        "max_sequence_length = max([len(seq) for seq in sequences])\n",
        "data = pad_sequences(sequences, maxlen=max_sequence_length)\n",
        "\n",
        "\n",
        "\n",
        "x_train, x_test, y_train, y_test = train_test_split(data, labels, test_size=0.2, random_state=42)\n",
        "\n",
        "\n",
        "\n",
        "model.compile(optimizer='adam', loss='binary_crossentropy', metrics=['accuracy'])\n",
        "\n",
        "\n",
        "\n",
        "from tensorflow.keras.utils import to_categorical\n",
        "\n",
        "y_train_cat = to_categorical(y_train)\n",
        "y_test_cat = to_categorical(y_test)\n",
        "\n",
        "\n",
        "\n",
        "\n",
        "model.fit(x_train, y_train_cat, epochs=10, batch_size=32)\n",
        "\n",
        "\n",
        "\n",
        "\n",
        "predictions = model.predict(x_test)\n",
        "\n",
        "\n",
        "\n",
        "new_texts = [\n",
        "  \"This movie was amazing!\",\n",
        "  \"The food was terrible at this restaurant.\" ,\n",
        "]\n",
        "new_sequences = tokenizer.texts_to_sequences(new_texts)\n",
        "new_data = pad_sequences(new_sequences, maxlen=max_sequence_length)\n",
        "predictions = model.predict(new_data)\n",
        "\n",
        "labels = []\n",
        "for pred in predictions:\n",
        "  # Assuming the first element is positive probability (check your model output)\n",
        "  label = 'Positive' if pred[1] >= 0.5 else 'Negative'\n",
        "  labels.append(label)\n",
        "\n",
        "for text, label in zip(new_texts, labels):\n",
        "  print(f'Text: {text} \\nPredicted label: {label}\\n')\n"
      ],
      "metadata": {
        "id": "Z4jdb182a9is"
      },
      "execution_count": null,
      "outputs": []
    },
    {
      "cell_type": "code",
      "source": [
        "pip install sumy"
      ],
      "metadata": {
        "colab": {
          "base_uri": "https://localhost:8080/"
        },
        "id": "1q77NvdsXqLt",
        "outputId": "2c5dab40-2c9f-44a1-9a72-c47f4c6a3ff4"
      },
      "execution_count": null,
      "outputs": [
        {
          "output_type": "stream",
          "name": "stdout",
          "text": [
            "Collecting sumy\n",
            "  Downloading sumy-0.11.0-py2.py3-none-any.whl (97 kB)\n",
            "\u001b[2K     \u001b[90m━━━━━━━━━━━━━━━━━━━━━━━━━━━━━━━━━━━━━━━━\u001b[0m \u001b[32m97.3/97.3 kB\u001b[0m \u001b[31m1.2 MB/s\u001b[0m eta \u001b[36m0:00:00\u001b[0m\n",
            "\u001b[?25hCollecting docopt<0.7,>=0.6.1 (from sumy)\n",
            "  Downloading docopt-0.6.2.tar.gz (25 kB)\n",
            "  Preparing metadata (setup.py) ... \u001b[?25l\u001b[?25hdone\n",
            "Collecting breadability>=0.1.20 (from sumy)\n",
            "  Downloading breadability-0.1.20.tar.gz (32 kB)\n",
            "  Preparing metadata (setup.py) ... \u001b[?25l\u001b[?25hdone\n",
            "Requirement already satisfied: requests>=2.7.0 in /usr/local/lib/python3.10/dist-packages (from sumy) (2.31.0)\n",
            "Collecting pycountry>=18.2.23 (from sumy)\n",
            "  Downloading pycountry-23.12.11-py3-none-any.whl (6.2 MB)\n",
            "\u001b[2K     \u001b[90m━━━━━━━━━━━━━━━━━━━━━━━━━━━━━━━━━━━━━━━━\u001b[0m \u001b[32m6.2/6.2 MB\u001b[0m \u001b[31m25.9 MB/s\u001b[0m eta \u001b[36m0:00:00\u001b[0m\n",
            "\u001b[?25hRequirement already satisfied: nltk>=3.0.2 in /usr/local/lib/python3.10/dist-packages (from sumy) (3.8.1)\n",
            "Requirement already satisfied: chardet in /usr/local/lib/python3.10/dist-packages (from breadability>=0.1.20->sumy) (5.2.0)\n",
            "Requirement already satisfied: lxml>=2.0 in /usr/local/lib/python3.10/dist-packages (from breadability>=0.1.20->sumy) (4.9.4)\n",
            "Requirement already satisfied: click in /usr/local/lib/python3.10/dist-packages (from nltk>=3.0.2->sumy) (8.1.7)\n",
            "Requirement already satisfied: joblib in /usr/local/lib/python3.10/dist-packages (from nltk>=3.0.2->sumy) (1.4.2)\n",
            "Requirement already satisfied: regex>=2021.8.3 in /usr/local/lib/python3.10/dist-packages (from nltk>=3.0.2->sumy) (2023.12.25)\n",
            "Requirement already satisfied: tqdm in /usr/local/lib/python3.10/dist-packages (from nltk>=3.0.2->sumy) (4.66.4)\n",
            "Requirement already satisfied: charset-normalizer<4,>=2 in /usr/local/lib/python3.10/dist-packages (from requests>=2.7.0->sumy) (3.3.2)\n",
            "Requirement already satisfied: idna<4,>=2.5 in /usr/local/lib/python3.10/dist-packages (from requests>=2.7.0->sumy) (3.7)\n",
            "Requirement already satisfied: urllib3<3,>=1.21.1 in /usr/local/lib/python3.10/dist-packages (from requests>=2.7.0->sumy) (2.0.7)\n",
            "Requirement already satisfied: certifi>=2017.4.17 in /usr/local/lib/python3.10/dist-packages (from requests>=2.7.0->sumy) (2024.2.2)\n",
            "Building wheels for collected packages: breadability, docopt\n",
            "  Building wheel for breadability (setup.py) ... \u001b[?25l\u001b[?25hdone\n",
            "  Created wheel for breadability: filename=breadability-0.1.20-py2.py3-none-any.whl size=21693 sha256=79eea68f5a598fa4fda53ba3f1614b17045227185b14a9ad04743651b9aaec8e\n",
            "  Stored in directory: /root/.cache/pip/wheels/64/22/90/b84fcc30e16598db20a0d41340616dbf9b1e82bbcc627b0b33\n",
            "  Building wheel for docopt (setup.py) ... \u001b[?25l\u001b[?25hdone\n",
            "  Created wheel for docopt: filename=docopt-0.6.2-py2.py3-none-any.whl size=13706 sha256=d9ab7aae6c5c0b7fc460ee020f6ff4fe557c7dbb7600d39d7c81cd2f7405a56e\n",
            "  Stored in directory: /root/.cache/pip/wheels/fc/ab/d4/5da2067ac95b36618c629a5f93f809425700506f72c9732fac\n",
            "Successfully built breadability docopt\n",
            "Installing collected packages: docopt, pycountry, breadability, sumy\n",
            "Successfully installed breadability-0.1.20 docopt-0.6.2 pycountry-23.12.11 sumy-0.11.0\n"
          ]
        }
      ]
    },
    {
      "cell_type": "code",
      "source": [
        "from sumy.parsers.plaintext import PlaintextParser\n",
        "from sumy.nlp.tokenizers import Tokenizer\n",
        "from sumy.summarizers.lsa import LsaSummarizer\n",
        "\n",
        "def generate_summary(text, num_sentences=2):\n",
        "\n",
        "    parser = PlaintextParser.from_string(text, Tokenizer(\"english\"))\n",
        "    summarizer = LsaSummarizer()\n",
        "    summary = summarizer(parser.document, num_sentences)\n",
        "    # Convert summary sentences back to string\n",
        "    summary_text = \" \".join([str(i) for i in summary])\n",
        "    return summary_text\n",
        "\n",
        "document_text = '''\n",
        "FORT is a business that appeared on Shark Tank season 13 with the idea for a modular pillow fort. The ABC reality series Shark Tank, based on the Japanese show Dragon's Den, features a panel of business celebrities called the \"sharks\", who judge whatever wild, inventive, unexpected, or downright strange business idea and invention the hopeful entrepreneur contestants bring in. The interesting thing about the Shark Tank format is that once a contestant wins and secures funding, their work is just getting started as they now have a funded business to grow.\n",
        "Every season since 2009, contestants have pitched their ideas to the sharks. Sometimes they leave happy, some leave angry, and some get good advice but no money to show for it. And just because the sharks say no to an idea, doesn't mean the business is destined to fail. There are plenty of rejected pitches on Shark Tank that become successful and many of their backed businesses have gone under. Conor Lewis came on Shark Tank to sell his Kickstarter business, a children's activity playset.\n",
        "'''\n",
        "\n",
        "# Generate summary\n",
        "summary = generate_summary(document_text)\n",
        "\n",
        "# Print the summary\n",
        "print(summary)"
      ],
      "metadata": {
        "colab": {
          "base_uri": "https://localhost:8080/"
        },
        "id": "xxPqvmmbXcs3",
        "outputId": "4abbeeb2-c6c8-4df1-b8fc-57730681c395"
      },
      "execution_count": null,
      "outputs": [
        {
          "output_type": "stream",
          "name": "stdout",
          "text": [
            "The interesting thing about the Shark Tank format is that once a contestant wins and secures funding, their work is just getting started as they now have a funded business to grow. Conor Lewis came on Shark Tank to sell his Kickstarter business, a children's activity playset.\n"
          ]
        }
      ]
    },
    {
      "cell_type": "code",
      "source": [
        "import datetime\n",
        "from collections import defaultdict\n",
        "\n",
        "# Define a class to represent a task\n",
        "class Task:\n",
        "  def __init__(self, description, due_date=None):\n",
        "    self.description = description\n",
        "    self.due_date = due_date if due_date else None\n",
        "    self.completed = False\n",
        "\n",
        "# Define a class to manage tasks\n",
        "class TaskManager:\n",
        "  def __init__(self):\n",
        "    self.tasks = defaultdict(list)  # Dictionary to store tasks by due date\n",
        "\n",
        "  def add_task(self, description, due_date=None):\n",
        "    task = Task(description, due_date)\n",
        "    if due_date:\n",
        "      self.tasks[due_date].append(task)\n",
        "    else:\n",
        "      self.tasks[\"undated\"].append(task)\n",
        "    print(f\"Task added: {task.description}\")\n",
        "\n",
        "  def get_tasks(self, due_date=None):\n",
        "    if due_date:\n",
        "      return self.tasks.get(due_date, [])  # Get tasks for specific date or empty list\n",
        "    else:\n",
        "      all_tasks = []\n",
        "      for tasks in self.tasks.values():\n",
        "        all_tasks.extend(tasks)\n",
        "      return all_tasks\n",
        "\n",
        "  def complete_task(self, description):\n",
        "    for tasks in self.tasks.values():\n",
        "      for task in tasks:\n",
        "        if task.description == description and not task.completed:\n",
        "          task.completed = True\n",
        "          print(f\"Task completed: {task.description}\")\n",
        "          return  # Exit after finding and completing the first matching task\n",
        "    print(f\"Task not found: {description}\")\n",
        "\n",
        "  def list_tasks(self, due_date=None):\n",
        "    tasks = self.get_tasks(due_date)\n",
        "    if tasks:\n",
        "      print(\"Tasks:\")\n",
        "      for task in tasks:\n",
        "        status = \"Completed\" if task.completed else \"Pending\"\n",
        "        date_str = task.due_date.strftime(\"%Y-%m-%d\") if task.due_date else \"Undated\"\n",
        "        print(f\"- {status}: {task.description} (due: {date_str})\")\n",
        "    else:\n",
        "      print(\"No tasks found.\")\n",
        "\n",
        "# Define functions for basic NLP tasks (replace with more advanced NLP libraries if needed)\n",
        "def extract_date(text):\n",
        "  # Implement logic to extract a date from the text using regular expressions or libraries like dateutil\n",
        "  # This is a simplified example, replace with your specific date extraction logic\n",
        "  for word in text.split():\n",
        "    if word.lower() in [\"today\", \"tomorrow\"]:\n",
        "      # Handle relative dates (e.g., today, tomorrow)\n",
        "      return datetime.date.today() + datetime.timedelta(days= (0 if word.lower() == \"today\" else 1))\n",
        "  return None  # No date found\n",
        "\n",
        "def identify_action(text):\n",
        "  # Implement logic to identify the action (add, complete, list) from the text\n",
        "  # This is a simplified example, replace with your specific intent classification logic\n",
        "  if text.lower().startswith(\"add\"):\n",
        "    return \"add\"\n",
        "  elif text.lower().startswith(\"complete\"):\n",
        "    return \"complete\"\n",
        "  elif text.lower().startswith(\"list\"):\n",
        "    return \"list\"\n",
        "  else:\n",
        "    return None  # No action identified\n",
        "\n",
        "# Initialize the task manager\n",
        "task_manager = TaskManager()\n",
        "\n",
        "# Main loop for user interaction\n",
        "while True:\n",
        "  user_input = input(\"What would you like to do? (add, complete, list, exit) \")\n",
        "  if user_input.lower() == \"exit\":\n",
        "    break\n",
        "\n",
        "  action = identify_action(user_input)\n",
        "  if not action:\n",
        "    print(\"Invalid input. Please try again.\")\n",
        "    continue\n",
        "\n",
        "  if action == \"add\":\n",
        "    description = user_input.split(\"add\", 1)[1].strip()  # Extract task description\n",
        "    due_date_str = extract_date(user_input)  # Try to extract due date\n",
        "    task_manager.add_task(description, due_date_str)\n",
        "  elif action == \"complete\":\n",
        "    description = user_input.split(\"complete\", 1)[1].strip()  # Extract task description\n",
        "    task_manager.complete_task(description)\n",
        "  elif action == \"list\":\n",
        "    due_date_str = extract_date(user_input)  # Try to extract due date for filtering\n",
        "    task_manager.list_tasks(due_date_str)\n"
      ],
      "metadata": {
        "colab": {
          "base_uri": "https://localhost:8080/"
        },
        "id": "pqTw0I9FX0an",
        "outputId": "d12e4781-99e2-4e65-f9e8-f5957180e0ce"
      },
      "execution_count": null,
      "outputs": [
        {
          "name": "stdout",
          "output_type": "stream",
          "text": [
            "What would you like to do? (add, complete, list, exit) add\n",
            "Task added: \n",
            "What would you like to do? (add, complete, list, exit) complete\n",
            "Task completed: \n",
            "What would you like to do? (add, complete, list, exit) exit\n"
          ]
        }
      ]
    },
    {
      "cell_type": "code",
      "source": [
        "tasks = []\n",
        "\n",
        "def add_task(task):\n",
        "    tasks.append(task)\n",
        "    return \"Task added successfully.\"\n",
        "\n",
        "def remove_task(task):\n",
        "    if task in tasks:\n",
        "        tasks.remove(task)\n",
        "        return \"Task removed successfully.\"\n",
        "    else:\n",
        "        return \"Task not found.\"\n",
        "\n",
        "def list_tasks():\n",
        "    if tasks:\n",
        "        return \"\\n\".join(tasks)\n",
        "    else:\n",
        "        return \"No tasks found.\"\n",
        "\n",
        "def main():\n",
        "    print(\"Welcome to Task Management Bot!\")\n",
        "    print(\"You can add, remove, or list tasks.\")\n",
        "    while True:\n",
        "        user_input = input(\"Enter a command: \").strip().lower()\n",
        "        if user_input == 'exit':\n",
        "            print(\"Exiting...\")\n",
        "            break\n",
        "        elif user_input.startswith('add '):\n",
        "            task = user_input[4:]\n",
        "            print(add_task(task))\n",
        "        elif user_input.startswith('remove '):\n",
        "            task = user_input[7:]\n",
        "            print(remove_task(task))\n",
        "        elif user_input == 'list':\n",
        "            print(list_tasks())\n",
        "        else:\n",
        "            print(\"Sorry, I didn't understand that. Please try again.\")\n",
        "\n",
        "if __name__ == \"__main__\":\n",
        "    main()"
      ],
      "metadata": {
        "colab": {
          "base_uri": "https://localhost:8080/"
        },
        "id": "DDY7dCItYJig",
        "outputId": "d7d0b5df-2a97-475b-8b1e-1df6e14485f0"
      },
      "execution_count": null,
      "outputs": [
        {
          "output_type": "stream",
          "name": "stdout",
          "text": [
            "Welcome to Task Management Bot!\n",
            "You can add, remove, or list tasks.\n",
            "Enter a command: add\n",
            "Sorry, I didn't understand that. Please try again.\n",
            "Enter a command: add\n",
            "Sorry, I didn't understand that. Please try again.\n",
            "Enter a command: remove\n",
            "Sorry, I didn't understand that. Please try again.\n",
            "Enter a command: list\n",
            "No tasks found.\n",
            "Enter a command: exit\n",
            "Exiting...\n"
          ]
        }
      ]
    },
    {
      "cell_type": "code",
      "source": [
        "import random\n",
        "\n",
        "gift_products = [\n",
        "    \"Wristwatch\",\"Perfume\",\"Wallet\",\"Jewelry\",\"Sunglasses\",\"Books\",\n",
        "\"Spa gift set\", \"Gourmet chocolates\", \"Gift card to a favorite store\",\n",
        "\"Personalized photo frame\"\n",
        "]\n",
        "\n",
        "\n",
        "print(\"GiftBot: Hi! I'm GiftBot. I can help you find the perfect gift for any occasion. How can I assist you today?\")\n",
        "\n",
        "while True:\n",
        "    user_input = input(\"You: \")\n",
        "    if user_input.lower()==\"recommend\":\n",
        "        rec_prod=random.choice(gift_products)\n",
        "        print(\"I recommend\",rec_prod)\n",
        "    elif user_input.lower()==\"bye\":\n",
        "        print(\"bye\")\n",
        "        break\n",
        "    else:\n",
        "        print(\"Cant understand\")"
      ],
      "metadata": {
        "colab": {
          "base_uri": "https://localhost:8080/"
        },
        "id": "-1jNadNXYhyC",
        "outputId": "550dda4e-5a71-4e8f-d5fd-0432768acc13"
      },
      "execution_count": null,
      "outputs": [
        {
          "output_type": "stream",
          "name": "stdout",
          "text": [
            "GiftBot: Hi! I'm GiftBot. I can help you find the perfect gift for any occasion. How can I assist you today?\n",
            "You: recommend\n",
            "I recommend Spa gift set\n",
            "You: recommend\n",
            "I recommend Gourmet chocolates\n",
            "You: bye\n",
            "bye\n"
          ]
        }
      ]
    },
    {
      "cell_type": "code",
      "source": [
        "class TaskManagerBot:\n",
        "    def __init__(self):\n",
        "        self.tasks = {}\n",
        "\n",
        "    def add_task(self, task_name):\n",
        "        if task_name in self.tasks:\n",
        "            print(\"Task already exists.\")\n",
        "        else:\n",
        "            self.tasks[task_name] = False\n",
        "            print(f\"Task '{task_name}' added.\")\n",
        "\n",
        "    def view_tasks(self):\n",
        "        if not self.tasks:\n",
        "            print(\"No tasks available.\")\n",
        "        else:\n",
        "            for task, completed in self.tasks.items():\n",
        "                status = \"Completed\" if completed else \"Pending\"\n",
        "                print(f\"{task}: {status}\")\n",
        "\n",
        "    def mark_task_completed(self, task_name):\n",
        "        if task_name in self.tasks:\n",
        "            self.tasks[task_name] = True\n",
        "            print(f\"Task '{task_name}' marked as completed.\")\n",
        "        else:\n",
        "            print(\"Task not found.\")\n",
        "\n",
        "    def run(self):\n",
        "        print(\"Welcome to Task Manager Bot!\")\n",
        "        while True:\n",
        "            command = input(\"Enter a command (add/view/complete/exit): \").strip().lower()\n",
        "            if command == \"add\":\n",
        "                task_name = input(\"Enter the task name: \").strip()\n",
        "                self.add_task(task_name)\n",
        "            elif command == \"view\":\n",
        "                self.view_tasks()\n",
        "            elif command == \"complete\":\n",
        "                task_name = input(\"Enter the task name to mark as completed: \").strip()\n",
        "                self.mark_task_completed(task_name)\n",
        "            elif command == \"exit\":\n",
        "                print(\"Exiting Task Manager Bot. Goodbye!\")\n",
        "                break\n",
        "            else:\n",
        "                print(\"Invalid command. Please try again.\")\n",
        "\n",
        "if __name__ == \"__main__\":\n",
        "    bot = TaskManagerBot()\n",
        "    bot.run()\n"
      ],
      "metadata": {
        "colab": {
          "base_uri": "https://localhost:8080/"
        },
        "id": "oXr1wkqtb4z6",
        "outputId": "8e44bc91-664b-4955-eacd-8a4680e9761e"
      },
      "execution_count": null,
      "outputs": [
        {
          "output_type": "stream",
          "name": "stdout",
          "text": [
            "Welcome to Task Manager Bot!\n",
            "Enter a command (add/view/complete/exit): exit\n",
            "Exiting Task Manager Bot. Goodbye!\n"
          ]
        }
      ]
    },
    {
      "cell_type": "code",
      "source": [
        "class ShoppingBot:\n",
        "    def __init__(self):\n",
        "        self.products = {\n",
        "            'apple': 2.5,\n",
        "            'banana': 1.5,\n",
        "            'orange': 3.0,\n",
        "            'grape': 4.0\n",
        "        }\n",
        "        self.cart = {}\n",
        "\n",
        "    def display_products(self):\n",
        "        print(\"Available Products:\")\n",
        "        for product, price in self.products.items():\n",
        "            print(f\"{product}: ${price}\")\n",
        "\n",
        "    def add_to_cart(self, product, quantity):\n",
        "        if product in self.products:\n",
        "            if product in self.cart:\n",
        "                self.cart[product] += quantity\n",
        "            else:\n",
        "                self.cart[product] = quantity\n",
        "            print(f\"{quantity} {product}(s) added to your cart.\")\n",
        "        else:\n",
        "            print(\"Product not found.\")\n",
        "\n",
        "    def view_cart(self):\n",
        "        if not self.cart:\n",
        "            print(\"Your cart is empty.\")\n",
        "        else:\n",
        "            print(\"Your Cart:\")\n",
        "            for product, quantity in self.cart.items():\n",
        "                print(f\"{product}: {quantity}\")\n",
        "\n",
        "    def checkout(self):\n",
        "        if not self.cart:\n",
        "            print(\"Your cart is empty. Nothing to checkout.\")\n",
        "            return\n",
        "        total_price = sum(self.products[product] * quantity for product, quantity in self.cart.items())\n",
        "        print(f\"Total price: ${total_price}\")\n",
        "        confirm = input(\"Would you like to checkout? (yes/no): \").strip().lower()\n",
        "        if confirm == \"yes\":\n",
        "            print(\"Thank you for your purchase!\")\n",
        "            self.cart = {}\n",
        "        else:\n",
        "            print(\"Checkout cancelled.\")\n",
        "\n",
        "    def run(self):\n",
        "        print(\"Welcome to Shopping Bot!\")\n",
        "        while True:\n",
        "            print(\"\\nMenu:\")\n",
        "            print(\"1. Display Products\")\n",
        "            print(\"2. Add to Cart\")\n",
        "            print(\"3. View Cart\")\n",
        "            print(\"4. Checkout\")\n",
        "            print(\"5. Exit\")\n",
        "            choice = input(\"Enter your choice (1/2/3/4/5): \").strip()\n",
        "            if choice == \"1\":\n",
        "                self.display_products()\n",
        "            elif choice == \"2\":\n",
        "                product = input(\"Enter product name: \").strip().lower()\n",
        "                quantity = int(input(\"Enter quantity: \").strip())\n",
        "                self.add_to_cart(product, quantity)\n",
        "            elif choice == \"3\":\n",
        "                self.view_cart()\n",
        "            elif choice == \"4\":\n",
        "                self.checkout()\n",
        "            elif choice == \"5\":\n",
        "                print(\"Exiting Shopping Bot. Goodbye!\")\n",
        "                break\n",
        "            else:\n",
        "                print(\"Invalid choice. Please try again.\")\n",
        "\n",
        "if __name__ == \"__main__\":\n",
        "    bot = ShoppingBot()\n",
        "    bot.run()\n"
      ],
      "metadata": {
        "colab": {
          "base_uri": "https://localhost:8080/"
        },
        "id": "DEUjE0mGb82L",
        "outputId": "78a4d2e1-93f5-4b2b-a99a-10a73cd3456c"
      },
      "execution_count": null,
      "outputs": [
        {
          "output_type": "stream",
          "name": "stdout",
          "text": [
            "Welcome to Shopping Bot!\n",
            "\n",
            "Menu:\n",
            "1. Display Products\n",
            "2. Add to Cart\n",
            "3. View Cart\n",
            "4. Checkout\n",
            "5. Exit\n",
            "Enter your choice (1/2/3/4/5): 5\n",
            "Exiting Shopping Bot. Goodbye!\n"
          ]
        }
      ]
    },
    {
      "cell_type": "code",
      "source": [
        "class RailwayTicketBookingBot:\n",
        "    def __init__(self):\n",
        "        self.trains = {\n",
        "            'express': {'seats': 100},\n",
        "            'local': {'seats': 50},\n",
        "            'bullet': {'seats': 20}\n",
        "        }\n",
        "        self.bookings = {}\n",
        "\n",
        "    def display_trains(self):\n",
        "        print(\"Available Trains:\")\n",
        "        for train, info in self.trains.items():\n",
        "            print(f\"{train.capitalize()}: {info['seats']} seats available\")\n",
        "\n",
        "    def book_ticket(self, train_type, num_tickets):\n",
        "        if train_type in self.trains:\n",
        "            if self.trains[train_type]['seats'] >= num_tickets:\n",
        "                self.trains[train_type]['seats'] -= num_tickets\n",
        "                print(f\"{num_tickets} tickets booked for {train_type.capitalize()} train.\")\n",
        "                if train_type in self.bookings:\n",
        "                    self.bookings[train_type] += num_tickets\n",
        "                else:\n",
        "                    self.bookings[train_type] = num_tickets\n",
        "            else:\n",
        "                print(\"Insufficient seats available.\")\n",
        "        else:\n",
        "            print(\"Invalid train type.\")\n",
        "\n",
        "    def view_bookings(self):\n",
        "        if not self.bookings:\n",
        "            print(\"No bookings yet.\")\n",
        "        else:\n",
        "            print(\"Your Bookings:\")\n",
        "            for train, num_tickets in self.bookings.items():\n",
        "                print(f\"{train.capitalize()}: {num_tickets} tickets\")\n",
        "\n",
        "    def run(self):\n",
        "        print(\"Welcome to Railway Ticket Booking Bot!\")\n",
        "        while True:\n",
        "            print(\"\\nMenu:\")\n",
        "            print(\"1. Display Trains\")\n",
        "            print(\"2. Book Ticket\")\n",
        "            print(\"3. View Bookings\")\n",
        "            print(\"4. Exit\")\n",
        "            choice = input(\"Enter your choice (1/2/3/4): \").strip()\n",
        "            if choice == \"1\":\n",
        "                self.display_trains()\n",
        "            elif choice == \"2\":\n",
        "                train_type = input(\"Enter train type (express/local/bullet): \").strip().lower()\n",
        "                num_tickets = int(input(\"Enter number of tickets: \").strip())\n",
        "                self.book_ticket(train_type, num_tickets)\n",
        "            elif choice == \"3\":\n",
        "                self.view_bookings()\n",
        "            elif choice == \"4\":\n",
        "                print(\"Exiting Railway Ticket Booking Bot. Goodbye!\")\n",
        "                break\n",
        "            else:\n",
        "                print(\"Invalid choice. Please try again.\")\n",
        "\n",
        "if __name__ == \"__main__\":\n",
        "    bot = RailwayTicketBookingBot()\n",
        "    bot.run()\n"
      ],
      "metadata": {
        "colab": {
          "base_uri": "https://localhost:8080/"
        },
        "id": "vaNsDhEVckKF",
        "outputId": "c88cb427-4b09-46fd-aa70-6842c19d17e4"
      },
      "execution_count": null,
      "outputs": [
        {
          "output_type": "stream",
          "name": "stdout",
          "text": [
            "Welcome to Railway Ticket Booking Bot!\n",
            "\n",
            "Menu:\n",
            "1. Display Trains\n",
            "2. Book Ticket\n",
            "3. View Bookings\n",
            "4. Exit\n",
            "Enter your choice (1/2/3/4): 4\n",
            "Exiting Railway Ticket Booking Bot. Goodbye!\n"
          ]
        }
      ]
    },
    {
      "cell_type": "code",
      "source": [
        "class FoodOrderBot:\n",
        "    def __init__(self):\n",
        "        self.menu = {\n",
        "            'burger': 5.0,\n",
        "            'pizza': 10.0,\n",
        "            'fries': 3.0,\n",
        "            'drink': 1.5\n",
        "        }\n",
        "        self.order = {}\n",
        "\n",
        "    def display_menu(self):\n",
        "        print(\"Menu:\")\n",
        "        for item, price in self.menu.items():\n",
        "            print(f\"{item.capitalize()}: ${price}\")\n",
        "\n",
        "    def add_to_order(self, item, quantity):\n",
        "        if item in self.menu:\n",
        "            if item in self.order:\n",
        "                self.order[item] += quantity\n",
        "            else:\n",
        "                self.order[item] = quantity\n",
        "            print(f\"{quantity} {item}(s) added to your order.\")\n",
        "        else:\n",
        "            print(\"Item not found in the menu.\")\n",
        "\n",
        "    def view_order(self):\n",
        "        if not self.order:\n",
        "            print(\"Your order is empty.\")\n",
        "        else:\n",
        "            print(\"Your Order:\")\n",
        "            for item, quantity in self.order.items():\n",
        "                print(f\"{item.capitalize()}: {quantity}\")\n",
        "\n",
        "    def calculate_total(self):\n",
        "        total = sum(self.menu[item] * quantity for item, quantity in self.order.items())\n",
        "        print(f\"Total amount: ${total:.2f}\")\n",
        "\n",
        "    def run(self):\n",
        "        print(\"Welcome to Food Order Bot!\")\n",
        "        while True:\n",
        "            print(\"\\nMenu:\")\n",
        "            print(\"1. Display Menu\")\n",
        "            print(\"2. Add to Order\")\n",
        "            print(\"3. View Order\")\n",
        "            print(\"4. Calculate Total\")\n",
        "            print(\"5. Checkout\")\n",
        "            print(\"6. Exit\")\n",
        "            choice = input(\"Enter your choice (1/2/3/4/5/6): \").strip()\n",
        "            if choice == \"1\":\n",
        "                self.display_menu()\n",
        "            elif choice == \"2\":\n",
        "                item = input(\"Enter item to add to order: \").strip().lower()\n",
        "                quantity = int(input(\"Enter quantity: \").strip())\n",
        "                self.add_to_order(item, quantity)\n",
        "            elif choice == \"3\":\n",
        "                self.view_order()\n",
        "            elif choice == \"4\":\n",
        "                self.calculate_total()\n",
        "            elif choice == \"5\":\n",
        "                print(\"Thank you for your order! Please proceed to checkout.\")\n",
        "                break\n",
        "            elif choice == \"6\":\n",
        "                print(\"Exiting Food Order Bot. Goodbye!\")\n",
        "                exit()\n",
        "            else:\n",
        "                print(\"Invalid choice. Please try again.\")\n",
        "                exit()\n",
        "\n",
        "if __name__ == \"__main__\":\n",
        "    bot = FoodOrderBot()\n",
        "    bot.run()"
      ],
      "metadata": {
        "colab": {
          "base_uri": "https://localhost:8080/"
        },
        "id": "o8pM7ubmcuiK",
        "outputId": "8753a9ac-fd4c-4418-fd86-7f61eac6db0a"
      },
      "execution_count": null,
      "outputs": [
        {
          "output_type": "stream",
          "name": "stdout",
          "text": [
            "Welcome to Food Order Bot!\n",
            "\n",
            "Menu:\n",
            "1. Display Menu\n",
            "2. Add to Order\n",
            "3. View Order\n",
            "4. Calculate Total\n",
            "5. Checkout\n",
            "6. Exit\n",
            "Enter your choice (1/2/3/4/5/6): 6\n",
            "Exiting Food Order Bot. Goodbye!\n",
            "\n",
            "Menu:\n",
            "1. Display Menu\n",
            "2. Add to Order\n",
            "3. View Order\n",
            "4. Calculate Total\n",
            "5. Checkout\n",
            "6. Exit\n",
            "Enter your choice (1/2/3/4/5/6): stop\n",
            "Invalid choice. Please try again.\n",
            "\n",
            "Menu:\n",
            "1. Display Menu\n",
            "2. Add to Order\n",
            "3. View Order\n",
            "4. Calculate Total\n",
            "5. Checkout\n",
            "6. Exit\n",
            "Enter your choice (1/2/3/4/5/6): 5\n",
            "Thank you for your order! Please proceed to checkout.\n"
          ]
        }
      ]
    }
  ]
}