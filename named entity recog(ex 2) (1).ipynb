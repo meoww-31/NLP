{
 "cells": [
  {
   "cell_type": "code",
   "execution_count": 20,
   "id": "ea241b8a",
   "metadata": {},
   "outputs": [
    {
     "name": "stdout",
     "output_type": "stream",
     "text": [
      "Entity: Apple Inc., Label: ORG\n",
      "Entity: Steve Jobs, Label: PERSON\n",
      "Entity: Steve Wozniak, Label: PERSON\n",
      "Entity: Ronald Wayne, Label: PERSON\n",
      "Entity: Cupertino, Label: GPE\n",
      "Entity: California, Label: GPE\n"
     ]
    }
   ],
   "source": [
    "import spacy\n",
    "\n",
    "def perform_ner(text):\n",
    "    # Load the pre-trained English language model\n",
    "    nlp = spacy.load(\"en_core_web_sm\")\n",
    "    # Process the text\n",
    "    doc = nlp(text)\n",
    "    entities = []\n",
    "    for ent in doc.ents:\n",
    "        entities.append((ent.text, ent.label_))\n",
    "    return entities\n",
    "\n",
    "def main():\n",
    "    text = (\"Apple Inc. was founded by Steve Jobs, Steve Wozniak, and Ronald Wayne. \"\\\n",
    "            \"It is headquartered in Cupertino, California.\")\n",
    "\n",
    "    entities = perform_ner(text)\n",
    "    for entity, label in entities:\n",
    "        print(f\"Entity: {entity}, Label: {label}\")\n",
    "\n",
    "if __name__ == '__main__':\n",
    "    main()\n"
   ]
  },
  {
   "cell_type": "code",
   "execution_count": null,
   "id": "11a2fd71",
   "metadata": {},
   "outputs": [],
   "source": [
    "!python -m spacy download en_core_web_sm\n",
    "pip install spacy"
   ]
  },
  {
   "cell_type": "code",
   "execution_count": null,
   "id": "c966560f",
   "metadata": {},
   "outputs": [],
   "source": []
  }
 ],
 "metadata": {
  "kernelspec": {
   "display_name": "Python 3 (ipykernel)",
   "language": "python",
   "name": "python3"
  },
  "language_info": {
   "codemirror_mode": {
    "name": "ipython",
    "version": 3
   },
   "file_extension": ".py",
   "mimetype": "text/x-python",
   "name": "python",
   "nbconvert_exporter": "python",
   "pygments_lexer": "ipython3",
   "version": "3.11.5"
  }
 },
 "nbformat": 4,
 "nbformat_minor": 5
}
