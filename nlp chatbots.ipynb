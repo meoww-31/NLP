{
 "cells": [
  {
   "cell_type": "markdown",
   "id": "42e7d222",
   "metadata": {},
   "source": [
    "# GIFTBOT"
   ]
  },
  {
   "cell_type": "code",
   "execution_count": 3,
   "id": "6971424e",
   "metadata": {},
   "outputs": [],
   "source": [
    "import random"
   ]
  },
  {
   "cell_type": "code",
   "execution_count": 4,
   "id": "31f1c187",
   "metadata": {},
   "outputs": [],
   "source": [
    "gifts = [\n",
    "    \"watch\",\"perfume\",\"choci\",\"ring\",\n",
    "    \"gift card\",\"photo frame\",\"necklace\"\n",
    "]"
   ]
  },
  {
   "cell_type": "code",
   "execution_count": 5,
   "id": "7505c70e",
   "metadata": {},
   "outputs": [
    {
     "name": "stdout",
     "output_type": "stream",
     "text": [
      "GiftBot: Hello I am GiftBot. How can I assist you with recommending gifts today? \n",
      "You: recommend\n",
      "I recommend you to gift a necklace\n",
      "You: recommend\n",
      "I recommend you to gift a gift card\n",
      "You: bye\n",
      "GiftBot: Bubyee!!\n"
     ]
    }
   ],
   "source": [
    "print(\"GiftBot: Hello I am GiftBot. How can I assist you with recommending gifts today? \")\n",
    "while True:\n",
    "    userin = input(\"You: \")\n",
    "    if userin.lower() == \"recommend\":\n",
    "        rec_prod = random.choice(gifts)\n",
    "        print(\"I recommend you to gift a\",rec_prod)\n",
    "    elif userin.lower() == \"bye\":\n",
    "        print(\"GiftBot: Bubyee!!\")\n",
    "        break\n",
    "    else:\n",
    "        print(\"can u rephrase it?\")\n",
    "    "
   ]
  },
  {
   "cell_type": "markdown",
   "id": "b17fc97e",
   "metadata": {},
   "source": [
    "# MOVIEBOT"
   ]
  },
  {
   "cell_type": "code",
   "execution_count": 10,
   "id": "77781a75",
   "metadata": {},
   "outputs": [],
   "source": [
    "import random"
   ]
  },
  {
   "cell_type": "code",
   "execution_count": 11,
   "id": "311db7ba",
   "metadata": {},
   "outputs": [],
   "source": [
    "movies = [\n",
    "    \"3\",\"premalu\",\"ghilli\",\"lover\",\n",
    "    \"kathi\",\"mersel\",\"remo\"\n",
    "]"
   ]
  },
  {
   "cell_type": "code",
   "execution_count": 12,
   "id": "b515b463",
   "metadata": {},
   "outputs": [
    {
     "name": "stdout",
     "output_type": "stream",
     "text": [
      "MovieBot: Hello I am MovieBot. How can I assist you with recommending movies today? \n",
      "You: recommend\n",
      "I recommend remo movie for u to watch\n",
      "You: recommend\n",
      "I recommend mersel movie for u to watch\n",
      "You: bye\n",
      "MovieBot: Bubyee!!\n"
     ]
    }
   ],
   "source": [
    "print(\"MovieBot: Hello I am MovieBot. How can I assist you with recommending movies today? \")\n",
    "while True:\n",
    "    userin = input(\"You: \")\n",
    "    if userin.lower() == \"recommend\":\n",
    "        rec_prod = random.choice(movies)\n",
    "        print(\"I recommend\",rec_prod,\"movie for u to watch\")\n",
    "    elif userin.lower() == \"bye\":\n",
    "        print(\"MovieBot: Bubyee!!\")\n",
    "        break\n",
    "    else:\n",
    "        print(\"can u rephrase it?\")\n",
    "    "
   ]
  },
  {
   "cell_type": "code",
   "execution_count": null,
   "id": "d4427eb6",
   "metadata": {},
   "outputs": [],
   "source": []
  }
 ],
 "metadata": {
  "kernelspec": {
   "display_name": "Python 3 (ipykernel)",
   "language": "python",
   "name": "python3"
  },
  "language_info": {
   "codemirror_mode": {
    "name": "ipython",
    "version": 3
   },
   "file_extension": ".py",
   "mimetype": "text/x-python",
   "name": "python",
   "nbconvert_exporter": "python",
   "pygments_lexer": "ipython3",
   "version": "3.9.12"
  }
 },
 "nbformat": 4,
 "nbformat_minor": 5
}
