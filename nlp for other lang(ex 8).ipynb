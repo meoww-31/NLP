{
 "cells": [
  {
   "cell_type": "code",
   "execution_count": 10,
   "id": "81c34d09",
   "metadata": {},
   "outputs": [],
   "source": [
    "import spacy\n",
    "from textblob import TextBlob"
   ]
  },
  {
   "cell_type": "code",
   "execution_count": 16,
   "id": "dcc82d08",
   "metadata": {},
   "outputs": [
    {
     "name": "stdout",
     "output_type": "stream",
     "text": [
      "input text : Me encanta la comida mexicana y el tequila.\n"
     ]
    }
   ],
   "source": [
    "# Load Spanish language model\n",
    "\n",
    "nlp = spacy.load(\"es_core_news_sm\")\n",
    "\n",
    "# Define text to analyze\n",
    "\n",
    "text = \"Me encanta la comida mexicana y el tequila.\"\n",
    "\n",
    "# Tokenize text\n",
    "\n",
    "doc = nlp(text)\n",
    "print(\"input text :\", text)\n"
   ]
  },
  {
   "cell_type": "code",
   "execution_count": 4,
   "id": "ced39262",
   "metadata": {},
   "outputs": [
    {
     "name": "stdout",
     "output_type": "stream",
     "text": [
      "Collecting es-core-news-sm==3.7.0\n",
      "  Downloading https://github.com/explosion/spacy-models/releases/download/es_core_news_sm-3.7.0/es_core_news_sm-3.7.0-py3-none-any.whl (12.9 MB)\n",
      "     ---------------------------------------- 0.0/12.9 MB ? eta -:--:--\n",
      "     --------------------------------------- 0.0/12.9 MB 960.0 kB/s eta 0:00:14\n",
      "      --------------------------------------- 0.2/12.9 MB 1.7 MB/s eta 0:00:08\n",
      "     - -------------------------------------- 0.5/12.9 MB 3.7 MB/s eta 0:00:04\n",
      "     -- ------------------------------------- 0.9/12.9 MB 5.2 MB/s eta 0:00:03\n",
      "     --- ------------------------------------ 1.3/12.9 MB 5.3 MB/s eta 0:00:03\n",
      "     ---- ----------------------------------- 1.5/12.9 MB 5.2 MB/s eta 0:00:03\n",
      "     ----- ---------------------------------- 1.6/12.9 MB 5.2 MB/s eta 0:00:03\n",
      "     ----- ---------------------------------- 1.6/12.9 MB 5.2 MB/s eta 0:00:03\n",
      "     ----- ---------------------------------- 1.6/12.9 MB 5.2 MB/s eta 0:00:03\n",
      "     ----- ---------------------------------- 1.6/12.9 MB 5.2 MB/s eta 0:00:03\n",
      "     ----- ---------------------------------- 1.6/12.9 MB 5.2 MB/s eta 0:00:03\n",
      "     ----- ---------------------------------- 1.6/12.9 MB 5.2 MB/s eta 0:00:03\n",
      "     ----- ---------------------------------- 1.8/12.9 MB 2.9 MB/s eta 0:00:04\n",
      "     ----- ---------------------------------- 1.8/12.9 MB 2.8 MB/s eta 0:00:04\n",
      "     ------ --------------------------------- 2.0/12.9 MB 2.7 MB/s eta 0:00:04\n",
      "     ------- -------------------------------- 2.5/12.9 MB 3.4 MB/s eta 0:00:04\n",
      "     --------- ------------------------------ 3.2/12.9 MB 3.9 MB/s eta 0:00:03\n",
      "     ---------- ----------------------------- 3.5/12.9 MB 4.1 MB/s eta 0:00:03\n",
      "     ----------- ---------------------------- 3.8/12.9 MB 4.2 MB/s eta 0:00:03\n",
      "     ------------ --------------------------- 4.2/12.9 MB 4.4 MB/s eta 0:00:02\n",
      "     ------------- -------------------------- 4.4/12.9 MB 4.4 MB/s eta 0:00:02\n",
      "     -------------- ------------------------- 4.6/12.9 MB 4.4 MB/s eta 0:00:02\n",
      "     --------------- ------------------------ 4.9/12.9 MB 4.5 MB/s eta 0:00:02\n",
      "     --------------- ------------------------ 5.1/12.9 MB 4.5 MB/s eta 0:00:02\n",
      "     ---------------- ----------------------- 5.4/12.9 MB 4.6 MB/s eta 0:00:02\n",
      "     ----------------- ---------------------- 5.7/12.9 MB 4.6 MB/s eta 0:00:02\n",
      "     ------------------ --------------------- 6.0/12.9 MB 4.7 MB/s eta 0:00:02\n",
      "     ------------------- -------------------- 6.3/12.9 MB 4.7 MB/s eta 0:00:02\n",
      "     -------------------- ------------------- 6.6/12.9 MB 4.8 MB/s eta 0:00:02\n",
      "     --------------------- ------------------ 7.0/12.9 MB 4.9 MB/s eta 0:00:02\n",
      "     ---------------------- ----------------- 7.2/12.9 MB 4.9 MB/s eta 0:00:02\n",
      "     ----------------------- ---------------- 7.6/12.9 MB 5.0 MB/s eta 0:00:02\n",
      "     ------------------------ --------------- 8.0/12.9 MB 5.0 MB/s eta 0:00:01\n",
      "     ------------------------- -------------- 8.2/12.9 MB 5.1 MB/s eta 0:00:01\n",
      "     -------------------------- ------------- 8.4/12.9 MB 5.0 MB/s eta 0:00:01\n",
      "     --------------------------- ------------ 8.8/12.9 MB 5.1 MB/s eta 0:00:01\n",
      "     --------------------------- ------------ 9.0/12.9 MB 5.1 MB/s eta 0:00:01\n",
      "     ---------------------------- ----------- 9.3/12.9 MB 5.1 MB/s eta 0:00:01\n",
      "     ----------------------------- ---------- 9.6/12.9 MB 5.2 MB/s eta 0:00:01\n",
      "     ------------------------------ --------- 9.8/12.9 MB 5.2 MB/s eta 0:00:01\n",
      "     ------------------------------- -------- 10.0/12.9 MB 5.2 MB/s eta 0:00:01\n",
      "     ------------------------------- -------- 10.3/12.9 MB 5.2 MB/s eta 0:00:01\n",
      "     -------------------------------- ------- 10.6/12.9 MB 5.3 MB/s eta 0:00:01\n",
      "     --------------------------------- ------ 10.8/12.9 MB 5.2 MB/s eta 0:00:01\n",
      "     ---------------------------------- ----- 11.2/12.9 MB 5.2 MB/s eta 0:00:01\n",
      "     ----------------------------------- ---- 11.4/12.9 MB 5.2 MB/s eta 0:00:01\n",
      "     ------------------------------------ --- 11.8/12.9 MB 5.3 MB/s eta 0:00:01\n",
      "     ------------------------------------- -- 12.0/12.9 MB 6.2 MB/s eta 0:00:01\n",
      "     -------------------------------------- - 12.5/12.9 MB 6.4 MB/s eta 0:00:01\n",
      "     ---------------------------------------  12.6/12.9 MB 6.2 MB/s eta 0:00:01\n",
      "     ---------------------------------------  12.9/12.9 MB 6.3 MB/s eta 0:00:01\n",
      "     ---------------------------------------- 12.9/12.9 MB 6.1 MB/s eta 0:00:00\n",
      "Requirement already satisfied: spacy<3.8.0,>=3.7.0 in c:\\users\\hp\\anaconda3\\lib\\site-packages (from es-core-news-sm==3.7.0) (3.7.4)\n",
      "Requirement already satisfied: spacy-legacy<3.1.0,>=3.0.11 in c:\\users\\hp\\anaconda3\\lib\\site-packages (from spacy<3.8.0,>=3.7.0->es-core-news-sm==3.7.0) (3.0.12)\n",
      "Requirement already satisfied: spacy-loggers<2.0.0,>=1.0.0 in c:\\users\\hp\\anaconda3\\lib\\site-packages (from spacy<3.8.0,>=3.7.0->es-core-news-sm==3.7.0) (1.0.5)\n",
      "Requirement already satisfied: murmurhash<1.1.0,>=0.28.0 in c:\\users\\hp\\anaconda3\\lib\\site-packages (from spacy<3.8.0,>=3.7.0->es-core-news-sm==3.7.0) (1.0.10)\n",
      "Requirement already satisfied: cymem<2.1.0,>=2.0.2 in c:\\users\\hp\\anaconda3\\lib\\site-packages (from spacy<3.8.0,>=3.7.0->es-core-news-sm==3.7.0) (2.0.8)\n",
      "Requirement already satisfied: preshed<3.1.0,>=3.0.2 in c:\\users\\hp\\anaconda3\\lib\\site-packages (from spacy<3.8.0,>=3.7.0->es-core-news-sm==3.7.0) (3.0.9)\n",
      "Requirement already satisfied: thinc<8.3.0,>=8.2.2 in c:\\users\\hp\\anaconda3\\lib\\site-packages (from spacy<3.8.0,>=3.7.0->es-core-news-sm==3.7.0) (8.2.3)\n",
      "Requirement already satisfied: wasabi<1.2.0,>=0.9.1 in c:\\users\\hp\\anaconda3\\lib\\site-packages (from spacy<3.8.0,>=3.7.0->es-core-news-sm==3.7.0) (1.1.2)\n",
      "Requirement already satisfied: srsly<3.0.0,>=2.4.3 in c:\\users\\hp\\anaconda3\\lib\\site-packages (from spacy<3.8.0,>=3.7.0->es-core-news-sm==3.7.0) (2.4.8)\n",
      "Requirement already satisfied: catalogue<2.1.0,>=2.0.6 in c:\\users\\hp\\anaconda3\\lib\\site-packages (from spacy<3.8.0,>=3.7.0->es-core-news-sm==3.7.0) (2.0.10)\n",
      "Requirement already satisfied: weasel<0.4.0,>=0.1.0 in c:\\users\\hp\\anaconda3\\lib\\site-packages (from spacy<3.8.0,>=3.7.0->es-core-news-sm==3.7.0) (0.3.4)\n",
      "Requirement already satisfied: typer<0.10.0,>=0.3.0 in c:\\users\\hp\\anaconda3\\lib\\site-packages (from spacy<3.8.0,>=3.7.0->es-core-news-sm==3.7.0) (0.9.4)\n",
      "Requirement already satisfied: smart-open<7.0.0,>=5.2.1 in c:\\users\\hp\\anaconda3\\lib\\site-packages (from spacy<3.8.0,>=3.7.0->es-core-news-sm==3.7.0) (5.2.1)\n",
      "Requirement already satisfied: tqdm<5.0.0,>=4.38.0 in c:\\users\\hp\\anaconda3\\lib\\site-packages (from spacy<3.8.0,>=3.7.0->es-core-news-sm==3.7.0) (4.65.0)\n",
      "Requirement already satisfied: requests<3.0.0,>=2.13.0 in c:\\users\\hp\\anaconda3\\lib\\site-packages (from spacy<3.8.0,>=3.7.0->es-core-news-sm==3.7.0) (2.31.0)\n",
      "Requirement already satisfied: pydantic!=1.8,!=1.8.1,<3.0.0,>=1.7.4 in c:\\users\\hp\\anaconda3\\lib\\site-packages (from spacy<3.8.0,>=3.7.0->es-core-news-sm==3.7.0) (1.10.8)\n",
      "Requirement already satisfied: jinja2 in c:\\users\\hp\\anaconda3\\lib\\site-packages (from spacy<3.8.0,>=3.7.0->es-core-news-sm==3.7.0) (3.1.2)\n",
      "Requirement already satisfied: setuptools in c:\\users\\hp\\anaconda3\\lib\\site-packages (from spacy<3.8.0,>=3.7.0->es-core-news-sm==3.7.0) (68.0.0)\n",
      "Requirement already satisfied: packaging>=20.0 in c:\\users\\hp\\anaconda3\\lib\\site-packages (from spacy<3.8.0,>=3.7.0->es-core-news-sm==3.7.0) (23.1)\n",
      "Requirement already satisfied: langcodes<4.0.0,>=3.2.0 in c:\\users\\hp\\anaconda3\\lib\\site-packages (from spacy<3.8.0,>=3.7.0->es-core-news-sm==3.7.0) (3.4.0)\n",
      "Requirement already satisfied: numpy>=1.19.0 in c:\\users\\hp\\anaconda3\\lib\\site-packages (from spacy<3.8.0,>=3.7.0->es-core-news-sm==3.7.0) (1.24.3)\n",
      "Requirement already satisfied: language-data>=1.2 in c:\\users\\hp\\anaconda3\\lib\\site-packages (from langcodes<4.0.0,>=3.2.0->spacy<3.8.0,>=3.7.0->es-core-news-sm==3.7.0) (1.2.0)\n",
      "Requirement already satisfied: typing-extensions>=4.2.0 in c:\\users\\hp\\anaconda3\\lib\\site-packages (from pydantic!=1.8,!=1.8.1,<3.0.0,>=1.7.4->spacy<3.8.0,>=3.7.0->es-core-news-sm==3.7.0) (4.7.1)\n",
      "Requirement already satisfied: charset-normalizer<4,>=2 in c:\\users\\hp\\anaconda3\\lib\\site-packages (from requests<3.0.0,>=2.13.0->spacy<3.8.0,>=3.7.0->es-core-news-sm==3.7.0) (2.0.4)\n",
      "Requirement already satisfied: idna<4,>=2.5 in c:\\users\\hp\\anaconda3\\lib\\site-packages (from requests<3.0.0,>=2.13.0->spacy<3.8.0,>=3.7.0->es-core-news-sm==3.7.0) (3.4)\n",
      "Requirement already satisfied: urllib3<3,>=1.21.1 in c:\\users\\hp\\anaconda3\\lib\\site-packages (from requests<3.0.0,>=2.13.0->spacy<3.8.0,>=3.7.0->es-core-news-sm==3.7.0) (1.26.16)\n",
      "Requirement already satisfied: certifi>=2017.4.17 in c:\\users\\hp\\anaconda3\\lib\\site-packages (from requests<3.0.0,>=2.13.0->spacy<3.8.0,>=3.7.0->es-core-news-sm==3.7.0) (2023.11.17)\n",
      "Requirement already satisfied: blis<0.8.0,>=0.7.8 in c:\\users\\hp\\anaconda3\\lib\\site-packages (from thinc<8.3.0,>=8.2.2->spacy<3.8.0,>=3.7.0->es-core-news-sm==3.7.0) (0.7.11)\n",
      "Requirement already satisfied: confection<1.0.0,>=0.0.1 in c:\\users\\hp\\anaconda3\\lib\\site-packages (from thinc<8.3.0,>=8.2.2->spacy<3.8.0,>=3.7.0->es-core-news-sm==3.7.0) (0.1.4)\n",
      "Requirement already satisfied: colorama in c:\\users\\hp\\anaconda3\\lib\\site-packages (from tqdm<5.0.0,>=4.38.0->spacy<3.8.0,>=3.7.0->es-core-news-sm==3.7.0) (0.4.6)\n",
      "Requirement already satisfied: click<9.0.0,>=7.1.1 in c:\\users\\hp\\anaconda3\\lib\\site-packages (from typer<0.10.0,>=0.3.0->spacy<3.8.0,>=3.7.0->es-core-news-sm==3.7.0) (8.0.4)\n",
      "Requirement already satisfied: cloudpathlib<0.17.0,>=0.7.0 in c:\\users\\hp\\anaconda3\\lib\\site-packages (from weasel<0.4.0,>=0.1.0->spacy<3.8.0,>=3.7.0->es-core-news-sm==3.7.0) (0.16.0)\n",
      "Requirement already satisfied: MarkupSafe>=2.0 in c:\\users\\hp\\anaconda3\\lib\\site-packages (from jinja2->spacy<3.8.0,>=3.7.0->es-core-news-sm==3.7.0) (2.1.1)\n",
      "Requirement already satisfied: marisa-trie>=0.7.7 in c:\\users\\hp\\anaconda3\\lib\\site-packages (from language-data>=1.2->langcodes<4.0.0,>=3.2.0->spacy<3.8.0,>=3.7.0->es-core-news-sm==3.7.0) (1.1.1)\n",
      "Installing collected packages: es-core-news-sm\n",
      "Successfully installed es-core-news-sm-3.7.0\n",
      "\u001b[38;5;2m[+] Download and installation successful\u001b[0m\n",
      "You can now load the package via spacy.load('es_core_news_sm')\n"
     ]
    }
   ],
   "source": [
    "!python -m spacy download es_core_news_sm"
   ]
  },
  {
   "cell_type": "code",
   "execution_count": 17,
   "id": "a898e853",
   "metadata": {},
   "outputs": [
    {
     "name": "stdout",
     "output_type": "stream",
     "text": [
      "Me PRON\n",
      "encanta VERB\n",
      "la DET\n",
      "comida NOUN\n",
      "mexicana ADJ\n",
      "y CCONJ\n",
      "el DET\n",
      "tequila PROPN\n",
      ". PUNCT\n"
     ]
    }
   ],
   "source": [
    "for token in doc:\n",
    "    print(token.text, token.pos_)"
   ]
  },
  {
   "cell_type": "code",
   "execution_count": 23,
   "id": "8795943d",
   "metadata": {},
   "outputs": [],
   "source": [
    "for ent in doc.ents:\n",
    "    print(ent.text, ent.label_)"
   ]
  },
  {
   "cell_type": "code",
   "execution_count": 22,
   "id": "6dcc19c7",
   "metadata": {},
   "outputs": [
    {
     "name": "stdout",
     "output_type": "stream",
     "text": [
      "Sentiment score: 0.0\n"
     ]
    }
   ],
   "source": [
    "sentiment_score = 0\n",
    "for sentence in doc.sents:\n",
    "    analysis = TextBlob(sentence.text)\n",
    "\n",
    "    sentiment_score += analysis.sentiment.polarity\n",
    "# Print sentiment score\n",
    "print(\"Sentiment score:\", sentiment_score)\n"
   ]
  },
  {
   "cell_type": "code",
   "execution_count": 24,
   "id": "a663d26b",
   "metadata": {},
   "outputs": [
    {
     "name": "stdout",
     "output_type": "stream",
     "text": [
      "Input text: Me encanta la comida mexicana y el tequila.\n",
      "Token POS tags:\n",
      "Me PRON\n",
      "encanta VERB\n",
      "la DET\n",
      "comida NOUN\n",
      "mexicana ADJ\n",
      "y CCONJ\n",
      "el DET\n",
      "tequila PROPN\n",
      ". PUNCT\n",
      "Named Entities:\n",
      "Sentiment score: 0.0\n"
     ]
    }
   ],
   "source": [
    "import spacy\n",
    "from textblob import TextBlob\n",
    "\n",
    "# Load Spanish language model\n",
    "nlp = spacy.load(\"es_core_news_sm\")\n",
    "\n",
    "# Define text to analyze\n",
    "text = \"Me encanta la comida mexicana y el tequila.\"\n",
    "\n",
    "# Tokenize text\n",
    "doc = nlp(text)\n",
    "\n",
    "# Print input text and POS tags\n",
    "print(\"Input text:\", text)\n",
    "print(\"Token POS tags:\")\n",
    "for token in doc:\n",
    "    print(token.text, token.pos_)\n",
    "\n",
    "# Perform named entity recognition (NER)\n",
    "print(\"Named Entities:\")\n",
    "for ent in doc.ents:\n",
    "    print(ent.text, ent.label_)\n",
    "\n",
    "# Calculate sentiment score\n",
    "sentiment_score = 0\n",
    "for sentence in doc.sents:\n",
    "    analysis = TextBlob(sentence.text)\n",
    "    sentiment_score += analysis.sentiment.polarity\n",
    "\n",
    "# Print sentiment score\n",
    "print(\"Sentiment score:\", sentiment_score)\n"
   ]
  },
  {
   "cell_type": "code",
   "execution_count": null,
   "id": "985093de",
   "metadata": {},
   "outputs": [],
   "source": []
  }
 ],
 "metadata": {
  "kernelspec": {
   "display_name": "Python 3 (ipykernel)",
   "language": "python",
   "name": "python3"
  },
  "language_info": {
   "codemirror_mode": {
    "name": "ipython",
    "version": 3
   },
   "file_extension": ".py",
   "mimetype": "text/x-python",
   "name": "python",
   "nbconvert_exporter": "python",
   "pygments_lexer": "ipython3",
   "version": "3.11.5"
  }
 },
 "nbformat": 4,
 "nbformat_minor": 5
}
