{
 "cells": [
  {
   "cell_type": "code",
   "execution_count": 1,
   "id": "f56f4717",
   "metadata": {},
   "outputs": [],
   "source": [
    "from difflib import get_close_matches"
   ]
  },
  {
   "cell_type": "code",
   "execution_count": 2,
   "id": "2208e68f",
   "metadata": {},
   "outputs": [],
   "source": [
    "def build_autocorrect_model(words):\n",
    "\n",
    "    autocorrect_model = {} \n",
    "    for word in words:\n",
    "        autocorrect_model[word.lower()] = word\n",
    "\n",
    "\n",
    "    return autocorrect_model\n"
   ]
  },
  {
   "cell_type": "code",
   "execution_count": 3,
   "id": "2ce3d3cd",
   "metadata": {},
   "outputs": [],
   "source": [
    "def autocorrect_input(input_text, autocorrect_model):\n",
    "    corrected_text = \"\"\n",
    "    words = input_text.split()\n",
    "\n",
    "    for word in words:\n",
    "        corrected_word = autocorrect_model.get(word.lower(), None)\n",
    "        if corrected_word:\n",
    "            corrected_text += corrected_word + \" \"\n",
    "        else:\n",
    "            closest_match = get_close_matches(word, autocorrect_model.keys(), n=1, cutoff=0.8)\n",
    "            if closest_match:\n",
    "                corrected_text += autocorrect_model[closest_match[0]] + \" \"\n",
    "            else:\n",
    "                corrected_text += word + \" \"\n",
    "\n",
    "    return corrected_text.strip()\n"
   ]
  },
  {
   "cell_type": "code",
   "execution_count": 4,
   "id": "3c48e2f7",
   "metadata": {},
   "outputs": [
    {
     "name": "stdout",
     "output_type": "stream",
     "text": [
      "I like to eat apple and banana\n"
     ]
    }
   ],
   "source": [
    "def job():\n",
    "\n",
    "    word_list = ['apple', 'banana', 'cat', 'dog', 'elephant', 'fish'] \n",
    "    autocorrect_model = build_autocorrect_model(word_list)\n",
    "    \n",
    "    input_text = \"I like to eat applle and bananana.\"\n",
    "    corrected_text = autocorrect_input(input_text, autocorrect_model) \n",
    "    print(corrected_text)\n",
    "\n",
    "job()\n"
   ]
  },
  {
   "cell_type": "code",
   "execution_count": 6,
   "id": "5cb3e53e",
   "metadata": {},
   "outputs": [
    {
     "name": "stdout",
     "output_type": "stream",
     "text": [
      "I like to eat apple and banana\n"
     ]
    }
   ],
   "source": [
    "from difflib import get_close_matches\n",
    "\n",
    "def build_autocorrect_model(words):\n",
    "    return {word.lower(): word for word in words}\n",
    "\n",
    "def autocorrect_input(input_text, autocorrect_model):\n",
    "    words = input_text.split()\n",
    "    corrected_words = [\n",
    "        autocorrect_model.get(word.lower()) or \n",
    "        (get_close_matches(word.lower(), autocorrect_model.keys(), n=1, cutoff=0.8) or [word])[0]\n",
    "        for word in words\n",
    "    ]\n",
    "    return ' '.join(autocorrect_model.get(word.lower(), word) for word in corrected_words)\n",
    "\n",
    "def job():\n",
    "    word_list = ['apple', 'banana', 'cat', 'dog', 'elephant', 'fish'] \n",
    "    autocorrect_model = build_autocorrect_model(word_list)\n",
    "    input_text = \"I like to eat applle and bananana.\"\n",
    "    corrected_text = autocorrect_input(input_text, autocorrect_model) \n",
    "    print(corrected_text)\n",
    "\n",
    "job()"
   ]
  },
  {
   "cell_type": "code",
   "execution_count": 7,
   "id": "4ba75803",
   "metadata": {},
   "outputs": [
    {
     "name": "stdout",
     "output_type": "stream",
     "text": [
      "I like to eat apple and banana\n"
     ]
    }
   ],
   "source": [
    "from difflib import get_close_matches\n",
    "\n",
    "def build_autocorrect_model(words):\n",
    "    return {word.lower(): word for word in words}\n",
    "\n",
    "def autocorrect_input(input_text, autocorrect_model):\n",
    "    words = input_text.split()\n",
    "    corrected_words = [\n",
    "        autocorrect_model.get(word.lower()) or \n",
    "        (get_close_matches(word.lower(), autocorrect_model.keys(), n=1, cutoff=0.8) or [word])[0]\n",
    "        for word in words\n",
    "    ]\n",
    "    return ' '.join(autocorrect_model.get(word.lower(), word) for word in corrected_words)\n",
    "\n",
    "def job():\n",
    "    word_list = ['apple', 'banana', 'cat', 'dog', 'elephant', 'fish'] \n",
    "    autocorrect_model = build_autocorrect_model(word_list)\n",
    "    input_text = \"I like to eat applle and bananana.\"\n",
    "    corrected_text = autocorrect_input(input_text, autocorrect_model) \n",
    "    print(corrected_text)\n",
    "\n",
    "job()"
   ]
  },
  {
   "cell_type": "code",
   "execution_count": null,
   "id": "476e94dc",
   "metadata": {},
   "outputs": [],
   "source": []
  }
 ],
 "metadata": {
  "kernelspec": {
   "display_name": "Python 3 (ipykernel)",
   "language": "python",
   "name": "python3"
  },
  "language_info": {
   "codemirror_mode": {
    "name": "ipython",
    "version": 3
   },
   "file_extension": ".py",
   "mimetype": "text/x-python",
   "name": "python",
   "nbconvert_exporter": "python",
   "pygments_lexer": "ipython3",
   "version": "3.11.5"
  }
 },
 "nbformat": 4,
 "nbformat_minor": 5
}
