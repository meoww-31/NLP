{
 "cells": [
  {
   "cell_type": "code",
   "execution_count": 2,
   "metadata": {},
   "outputs": [
    {
     "name": "stdout",
     "output_type": "stream",
     "text": [
      "Support for Party A: 0\n",
      "Support for Party B: 2\n",
      "Party B has higher possibility to win.\n"
     ]
    }
   ],
   "source": [
    "from textblob import TextBlob\n",
    "\n",
    "# Example tweets\n",
    "tweets = [\n",
    "    \"I owe party A big time #partyA\",\n",
    "    \"I support party B #gopartyB\",\n",
    "    \"Big love for party B\",\n",
    "    \"Worst party with fake promise partyA\",\n",
    "    \"Gonna lose partyB\",\n",
    "    \"Whom ever wins, I don't care\"\n",
    "]\n",
    "\n",
    "# Initialize counters for each party\n",
    "support_A = 0\n",
    "support_B = 0\n",
    "\n",
    "# Function to analyze sentiment\n",
    "def analyze_sentiment(tweet):\n",
    "    analysis = TextBlob(tweet)\n",
    "    return analysis.sentiment.polarity\n",
    "\n",
    "# Iterate through the tweets and categorize based on sentiment\n",
    "for tweet in tweets:\n",
    "    sentiment = analyze_sentiment(tweet)\n",
    "    \n",
    "    # Simplistic check to categorize tweet to a party\n",
    "    if \"A\" in tweet :\n",
    "        if sentiment > 0:\n",
    "            support_A += 1\n",
    "        elif sentiment < 0:\n",
    "            support_B += 1\n",
    "    elif \"B\" in tweet:\n",
    "        if sentiment > 0:\n",
    "            support_B += 1\n",
    "        elif sentiment < 0:\n",
    "            support_A += 1\n",
    "    else:\n",
    "        # Neutral or unrelated tweets are ignored for this simplistic approach\n",
    "        continue\n",
    "\n",
    "# Print the results\n",
    "print(f\"Support for Party A: {support_A}\")\n",
    "print(f\"Support for Party B: {support_B}\")\n",
    "\n",
    "# Determine the predicted winner\n",
    "if support_A > support_B:\n",
    "    print(\"Party A has higher possibility to win.\")\n",
    "elif support_B > support_A:\n",
    "    print(\"Party B has higher possibility to win.\")\n",
    "else:\n",
    "    print(\"It's a tie in support.\")"
   ]
  }
 ],
 "metadata": {
  "kernelspec": {
   "display_name": "Python 3",
   "language": "python",
   "name": "python3"
  },
  "language_info": {
   "codemirror_mode": {
    "name": "ipython",
    "version": 3
   },
   "file_extension": ".py",
   "mimetype": "text/x-python",
   "name": "python",
   "nbconvert_exporter": "python",
   "pygments_lexer": "ipython3",
   "version": "3.11.5"
  }
 },
 "nbformat": 4,
 "nbformat_minor": 2
}
