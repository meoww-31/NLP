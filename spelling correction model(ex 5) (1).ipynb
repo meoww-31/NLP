{
 "cells": [
  {
   "cell_type": "code",
   "execution_count": 6,
   "id": "c3facf83",
   "metadata": {},
   "outputs": [],
   "source": [
    "from textblob import TextBlob"
   ]
  },
  {
   "cell_type": "code",
   "execution_count": 7,
   "id": "67f86715",
   "metadata": {},
   "outputs": [],
   "source": [
    "def perform_spelling_correction(text):\n",
    "\n",
    "# Create a TextBlob object\n",
    "\n",
    "    blob = TextBlob(text)\n",
    "\n",
    "\n",
    "# Perform spelling correction\n",
    "    corrected_text = blob.correct()\n",
    "\n",
    "\n",
    "    return corrected_text\n"
   ]
  },
  {
   "cell_type": "code",
   "execution_count": 12,
   "id": "a034cf48",
   "metadata": {},
   "outputs": [
    {
     "name": "stdout",
     "output_type": "stream",
     "text": [
      "this is a sentence with misspelled words.\n"
     ]
    }
   ],
   "source": [
    "def job():\n",
    "\n",
    "    text = \"tThiss is a sentense with misspelled wrds.\"\n",
    "\n",
    "\n",
    "    corrected_text = perform_spelling_correction(text) \n",
    "    print(corrected_text)\n",
    "\n",
    "job()\n"
   ]
  },
  {
   "cell_type": "code",
   "execution_count": null,
   "id": "d2ee4b98",
   "metadata": {},
   "outputs": [],
   "source": []
  }
 ],
 "metadata": {
  "kernelspec": {
   "display_name": "Python 3 (ipykernel)",
   "language": "python",
   "name": "python3"
  },
  "language_info": {
   "codemirror_mode": {
    "name": "ipython",
    "version": 3
   },
   "file_extension": ".py",
   "mimetype": "text/x-python",
   "name": "python",
   "nbconvert_exporter": "python",
   "pygments_lexer": "ipython3",
   "version": "3.11.5"
  }
 },
 "nbformat": 4,
 "nbformat_minor": 5
}
