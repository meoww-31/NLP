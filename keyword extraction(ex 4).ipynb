{
 "cells": [
  {
   "cell_type": "code",
   "execution_count": 3,
   "id": "1ab01e51",
   "metadata": {},
   "outputs": [
    {
     "name": "stdout",
     "output_type": "stream",
     "text": [
      "Collecting rake-nltk\n",
      "  Obtaining dependency information for rake-nltk from https://files.pythonhosted.org/packages/3b/e5/18876d587142df57b1c70ef752da34664bb7dd383710ccf3ccaefba2aa0c/rake_nltk-1.0.6-py3-none-any.whl.metadata\n",
      "  Downloading rake_nltk-1.0.6-py3-none-any.whl.metadata (6.4 kB)\n",
      "Requirement already satisfied: nltk in c:\\users\\hp\\anaconda3\\lib\\site-packages (3.8.1)\n",
      "Requirement already satisfied: click in c:\\users\\hp\\anaconda3\\lib\\site-packages (from nltk) (8.0.4)\n",
      "Requirement already satisfied: joblib in c:\\users\\hp\\anaconda3\\lib\\site-packages (from nltk) (1.2.0)\n",
      "Requirement already satisfied: regex>=2021.8.3 in c:\\users\\hp\\anaconda3\\lib\\site-packages (from nltk) (2022.7.9)\n",
      "Requirement already satisfied: tqdm in c:\\users\\hp\\anaconda3\\lib\\site-packages (from nltk) (4.65.0)\n",
      "Requirement already satisfied: colorama in c:\\users\\hp\\anaconda3\\lib\\site-packages (from click->nltk) (0.4.6)\n",
      "Downloading rake_nltk-1.0.6-py3-none-any.whl (9.1 kB)\n",
      "Installing collected packages: rake-nltk\n",
      "Successfully installed rake-nltk-1.0.6\n"
     ]
    }
   ],
   "source": [
    "!pip install rake-nltk nltk"
   ]
  },
  {
   "cell_type": "code",
   "execution_count": 7,
   "id": "40f3d99f",
   "metadata": {},
   "outputs": [],
   "source": [
    "\n",
    "import nltk "
   ]
  },
  {
   "cell_type": "code",
   "execution_count": 8,
   "id": "5eea98d8",
   "metadata": {},
   "outputs": [
    {
     "name": "stderr",
     "output_type": "stream",
     "text": [
      "[nltk_data] Downloading package stopwords to\n",
      "[nltk_data]     C:\\Users\\Hp\\AppData\\Roaming\\nltk_data...\n",
      "[nltk_data]   Unzipping corpora\\stopwords.zip.\n",
      "[nltk_data] Downloading package punkt to\n",
      "[nltk_data]     C:\\Users\\Hp\\AppData\\Roaming\\nltk_data...\n",
      "[nltk_data]   Unzipping tokenizers\\punkt.zip.\n"
     ]
    },
    {
     "data": {
      "text/plain": [
       "True"
      ]
     },
     "execution_count": 8,
     "metadata": {},
     "output_type": "execute_result"
    }
   ],
   "source": [
    "nltk.download('stopwords') \n",
    "nltk.download('punkt')"
   ]
  },
  {
   "cell_type": "code",
   "execution_count": 10,
   "id": "0dfb75ae",
   "metadata": {},
   "outputs": [],
   "source": [
    "from rake_nltk import Rake"
   ]
  },
  {
   "cell_type": "code",
   "execution_count": 11,
   "id": "6f11c71c",
   "metadata": {},
   "outputs": [],
   "source": [
    "def perform_keyword_extraction(text):\n",
    "# Create a Rake object\n",
    "    rake = Rake()\n",
    "\n",
    "\n",
    "# Extract keywords\n",
    "    rake.extract_keywords_from_text(text)\n",
    "\n",
    "\n",
    "# Get ranked keywords\n",
    "    ranked_keywords = rake.get_ranked_phrases()\n",
    "\n",
    "\n",
    "    return ranked_keywords\n"
   ]
  },
  {
   "cell_type": "code",
   "execution_count": 24,
   "id": "8f2704a1",
   "metadata": {},
   "outputs": [
    {
     "name": "stdout",
     "output_type": "stream",
     "text": [
      "versatile programming language known\n",
      "widely used\n",
      "web development\n",
      "data analysis\n",
      "artificial intelligence\n",
      "simplicity\n",
      "readability\n",
      "python\n"
     ]
    }
   ],
   "source": [
    "def job():\n",
    "    text = \"Python is a versatile programming language known for its simplicity and readability. \"\\\n",
    "           \"It is widely used in web development, data analysis, and artificial intelligence.\"\n",
    "    keywords = perform_keyword_extraction(text) \n",
    "    for keyword in keywords:\n",
    "        print(keyword)\n",
    "\n",
    "job()"
   ]
  },
  {
   "cell_type": "code",
   "execution_count": null,
   "id": "da7ebf8c",
   "metadata": {},
   "outputs": [],
   "source": []
  },
  {
   "cell_type": "code",
   "execution_count": null,
   "id": "50b0ecc4",
   "metadata": {},
   "outputs": [],
   "source": []
  }
 ],
 "metadata": {
  "kernelspec": {
   "display_name": "Python 3 (ipykernel)",
   "language": "python",
   "name": "python3"
  },
  "language_info": {
   "codemirror_mode": {
    "name": "ipython",
    "version": 3
   },
   "file_extension": ".py",
   "mimetype": "text/x-python",
   "name": "python",
   "nbconvert_exporter": "python",
   "pygments_lexer": "ipython3",
   "version": "3.11.5"
  }
 },
 "nbformat": 4,
 "nbformat_minor": 5
}
